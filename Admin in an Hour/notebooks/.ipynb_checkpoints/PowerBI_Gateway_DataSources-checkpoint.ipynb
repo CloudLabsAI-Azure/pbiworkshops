{
 "cells": [
  {
   "cell_type": "markdown",
   "metadata": {},
   "source": [
    "# Connect to Power BI service\n",
    "Login with Azure Active Directory user authentication or Service Principal credentials.\n",
    "\n",
    "For Service Principal:\n",
    "- Connect-PowerBIServiceAccount -ServicePrincipal -Credential (Get-Credential)"
   ]
  },
  {
   "cell_type": "code",
   "execution_count": null,
   "metadata": {
    "tags": []
   },
   "outputs": [],
   "source": [
    "Connect-PowerBIServiceAccount"
   ]
  },
  {
   "cell_type": "markdown",
   "metadata": {},
   "source": [
    "# Return a list of all Power BI group workspaces\n",
    "\n",
    "Return a listing of the Power BI group workspaces including Id, Name, IsReadOnly and IsOnDedicatedCapacity."
   ]
  },
  {
   "cell_type": "code",
   "execution_count": null,
   "metadata": {
    "tags": []
   },
   "outputs": [],
   "source": [
    "$pbiWorkspaces = Get-PowerBIWorkspace -Scope $scopeLevel -All | ?{$_.Name -NotMatch \"PersonalWorkspace*\"} | select *, @{Name=\"CurrentTime\"; Expression={ $currentTime } }"
   ]
  },
  {
   "cell_type": "markdown",
   "metadata": {},
   "source": [
    "# Get Gateway Datasources\n",
    "\n",
    "\n",
    "Return a listing of all the Power BI artifcats within a workspace including additional attributes where applicable."
   ]
  },
  {
   "cell_type": "code",
   "execution_count": null,
   "metadata": {},
   "outputs": [],
   "source": [
    "$json = @()\n",
    "\n",
    "ForEach ($workspace in $pbiWorkspaces) {\n",
    "\n",
    "    $pbiDatasets += Get-PowerBIDataset -Scope $scopeLevel -WorkspaceId $workspace.Id\n",
    "    \n",
    "    ForEach ($pbiDataset in $pbiDatasets){\n",
    "    \n",
    "        $json += Invoke-PowerBIRestMethod -URL \"https://api.powerbi.com/v1.0/myorg/groups/$($workspace.Id)/datasets/$($pbiDataset.id)/Default.GetBoundGatewayDatasources\" -Method GET\n",
    "        $json\n",
    "    }   \n",
    "}"
   ]
  }
 ],
 "metadata": {
  "kernelspec": {
   "display_name": ".NET (PowerShell)",
   "language": "PowerShell",
   "name": ".net-powershell"
  },
  "language_info": {
   "file_extension": ".ps1",
   "mimetype": "text/x-powershell",
   "name": "PowerShell",
   "pygments_lexer": "powershell",
   "version": "7.0"
  }
 },
 "nbformat": 4,
 "nbformat_minor": 4
}
