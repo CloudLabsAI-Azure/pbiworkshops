{
 "cells": [
  {
   "cell_type": "markdown",
   "metadata": {},
   "source": [
    "# Microsoft Power BI Cmdlets for Windows PowerShell and PowerShell Core\n",
    "The following cmdlets are available on PowerShell Gallery and can be installed in an elevated PowerShell session:\n",
    "- [Microsoft Power BI](https://docs.microsoft.com/en-us/powershell/power-bi/overview?view=powerbi-ps)"
   ]
  },
  {
   "cell_type": "code",
   "execution_count": null,
   "metadata": {},
   "outputs": [],
   "source": [
    "$modules = @(\"MicrosoftPowerBIMGMT\")\n",
    "\n",
    "foreach ( $m in $modules ) \n",
    "{\n",
    "    if (Get-Module -ListAvailable -Name $m) {\n",
    "        Write-Host \"Module $m is already imported.\"\n",
    "    } \n",
    "    else {\n",
    "        Install-Module -Name $m -Force -Scope CurrentUser\n",
    "        Import-Module $m\n",
    "        Write-Host \"Module $m is now imported.\"\n",
    "    }\n",
    "}"
   ]
  },
  {
   "cell_type": "markdown",
   "metadata": {},
   "source": [
    "# Connect to Power BI service\n",
    "Login with Azure Active Directory user authentication.\n",
    "\n",
    "<b>Note:<b> Service Principal credentials are currently not supported."
   ]
  },
  {
   "cell_type": "code",
   "execution_count": null,
   "metadata": {},
   "outputs": [],
   "source": [
    "Connect-PowerBIServiceAccount"
   ]
  },
  {
   "cell_type": "markdown",
   "metadata": {},
   "source": [
    "# Output"
   ]
  },
  {
   "cell_type": "code",
   "execution_count": null,
   "metadata": {},
   "outputs": [],
   "source": [
    "$outPath = \"C:\\Power BI\\Activity Logs\\\""
   ]
  },
  {
   "cell_type": "markdown",
   "metadata": {},
   "source": [
    "# Historical Events Offset\n",
    "\n",
    "Refer to your organizations default audit log retention policy for maximum number of days stored.\n",
    "\n",
    "Currently only 30 day period supported for Power BI activity log events during preview.\n",
    "\n",
    "Additional Information: https://docs.microsoft.com/en-us/microsoft-365/compliance/audit-log-retention-policies?view=o365-worldwide"
   ]
  },
  {
   "cell_type": "code",
   "execution_count": null,
   "metadata": {},
   "outputs": [],
   "source": [
    "$offsetDays = 29"
   ]
  },
  {
   "cell_type": "markdown",
   "metadata": {},
   "source": [
    "# Error Handling: \n",
    "\n",
    "Determines if the variable outPath's final character is a forward slash and that folder exists."
   ]
  },
  {
   "cell_type": "code",
   "execution_count": null,
   "metadata": {},
   "outputs": [],
   "source": [
    "if ($outPath.Substring($outPath.Length - 1, 1) -cne \"\\\") { $outPath = $outPath + \"\\\" }\n",
    "if (!(Test-Path $outPath)) { New-Item -ItemType Directory -Force -Path $outPath }"
   ]
  },
  {
   "cell_type": "markdown",
   "metadata": {},
   "source": [
    "# Iterate Offset Date Range"
   ]
  },
  {
   "cell_type": "code",
   "execution_count": null,
   "metadata": {},
   "outputs": [],
   "source": [
    "For ($i = 1; $i -le $offsetDays; $i+=1) { \n",
    "    $startEvent = ((Get-Date).AddDays(-$i).ToString(\"yyyy-MM-ddT00:00:00.000\"))\n",
    "    $endEvent = ((Get-Date).AddDays(-$i).ToString(\"yyyy-MM-ddT23:59:59.999\"))\n",
    "    \n",
    "    Write-Host \"Evaluating Activity Log: $($startEvent.Substring(0,10))\"\n",
    "    $pbiActivities = Get-PowerBIActivityEvent -StartDateTime $startEvent -EndDateTime $endEvent | ConvertFrom-Json\n",
    "\n",
    "    if ($pbiActivities.count -ne 0) {\n",
    "        $outDate = $startEvent.Substring(0,10) -replace '-',''\n",
    "        $pbiActivities | Export-Csv -Path \"$($outpath)Power_BI_Activity_Logs_$($outDate).csv\" -NoTypeInformation -Force -Append\n",
    "    }\n",
    "}"
   ]
  },
  {
   "cell_type": "markdown",
   "metadata": {},
   "source": [
    "# Disconnect from Power BI service"
   ]
  },
  {
   "cell_type": "code",
   "execution_count": null,
   "metadata": {},
   "outputs": [],
   "source": [
    "Disconnect-PowerBIServiceAccount"
   ]
  }
 ],
 "metadata": {
  "kernelspec": {
   "display_name": ".NET (PowerShell)",
   "language": "PowerShell",
   "name": ".net-powershell"
  },
  "language_info": {
   "file_extension": ".ps1",
   "mimetype": "text/x-powershell",
   "name": "PowerShell",
   "pygments_lexer": "powershell",
   "version": "7.0"
  }
 },
 "nbformat": 4,
 "nbformat_minor": 4
}
