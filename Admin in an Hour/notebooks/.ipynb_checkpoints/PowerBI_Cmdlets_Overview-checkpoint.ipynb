{
 "cells": [
  {
   "cell_type": "markdown",
   "metadata": {},
   "source": [
    "# Microsoft Power BI Cmdlets for Windows PowerShell and PowerShell Core\n",
    "The following cmdlets are available on PowerShell Gallery and can be installed in an elevated PowerShell session:\n",
    "- [Microsoft Power BI](https://docs.microsoft.com/en-us/powershell/power-bi/overview?view=powerbi-ps)\n",
    "- [Data Gateway](https://docs.microsoft.com/en-us/powershell/module/datagateway/?view=datagateway-ps)"
   ]
  },
  {
   "cell_type": "code",
   "execution_count": null,
   "metadata": {
    "scrolled": true,
    "tags": []
   },
   "outputs": [],
   "source": [
    "$modules = @(\"MicrosoftPowerBIMGMT\", \"DataGateway\")\n",
    "\n",
    "foreach ( $m in $modules ) \n",
    "{\n",
    "    if (Get-Module -ListAvailable -Name $m) {\n",
    "        write-host \"Module $m is already imported.\"\n",
    "    } \n",
    "    else {\n",
    "        Install-Module -Name $m -Force -Scope CurrentUser\n",
    "        Import-Module $m\n",
    "        write-host \"Module $m is now imported.\"\n",
    "    }\n",
    "}"
   ]
  },
  {
   "cell_type": "markdown",
   "metadata": {},
   "source": [
    "# Available Cmdlets\n",
    "Returns the available cmdlets from either the MicrosoftPowerBIMGMT or DataGateway module."
   ]
  },
  {
   "cell_type": "code",
   "execution_count": null,
   "metadata": {
    "scrolled": true,
    "tags": []
   },
   "outputs": [],
   "source": [
    "Get-Help *PowerBI* | Sort-Object Name | Format-Table -AutoSize"
   ]
  },
  {
   "cell_type": "code",
   "execution_count": null,
   "metadata": {},
   "outputs": [],
   "source": [
    "Get-Help *DataGateway* | Sort-Object Name | Format-Table -AutoSize"
   ]
  },
  {
   "cell_type": "markdown",
   "metadata": {},
   "source": [
    "# Connect to Power BI service\n",
    "Login with Azure Active Directory user authentication or Service Principal credentials.\n",
    "\n",
    "For Service Principal:\n",
    "- Connect-PowerBIServiceAccount -ServicePrincipal -Credential (Get-Credential)"
   ]
  },
  {
   "cell_type": "code",
   "execution_count": null,
   "metadata": {
    "tags": []
   },
   "outputs": [],
   "source": [
    "Connect-PowerBIServiceAccount"
   ]
  },
  {
   "cell_type": "markdown",
   "metadata": {},
   "source": [
    "# Scope\n",
    "\n",
    "Indicates the scope of the call.\n",
    "- -Scope Individual\n",
    "    - Returns only workspaces assigned to the caller.\n",
    "- -Scope Organization\n",
    "    - Returns all workspaces within a tenant (must be an administrator to initiate)."
   ]
  },
  {
   "cell_type": "code",
   "execution_count": null,
   "metadata": {},
   "outputs": [],
   "source": [
    "$scopeLevel = \"Individual\""
   ]
  },
  {
   "cell_type": "markdown",
   "metadata": {},
   "source": [
    "# Return a list of Power BI workspaces\n",
    "\n",
    "Return a listing of the Power BI workspaces including Id, Name, IsReadOnly and IsOnDedicatedCapacity.\n",
    "\n",
    "To list all workspaces, use the parameter -All"
   ]
  },
  {
   "cell_type": "code",
   "execution_count": null,
   "metadata": {
    "tags": []
   },
   "outputs": [],
   "source": [
    "$pbiWorkspaces = Get-PowerBIWorkspace -Scope $scopeLevel -All\n",
    "Write-Host \"Total Number of Workspaces: $($pbiWorkspaces.Count)`n\"\n",
    "\n",
    "Get-PowerBIWorkspace -Scope Individual -First 5"
   ]
  },
  {
   "cell_type": "markdown",
   "metadata": {},
   "source": [
    "# Return a list of Power BI datasets in a workspace\n",
    "\n",
    "Return a listing of the Power BI datasets within a workspace including the additional attributes WorkspaceId and Type."
   ]
  },
  {
   "cell_type": "code",
   "execution_count": null,
   "metadata": {},
   "outputs": [],
   "source": [
    "$pbiWorkspaces = Get-PowerBIWorkspace -Scope $scopeLevel -First 5\n",
    "\n",
    "$pbiDatasets = @()\n",
    "\n",
    "ForEach ($workspace in $pbiWorkspaces) {\n",
    "\n",
    "    $pbiDatasets += Get-PowerBIDataset -Scope $scopeLevel -WorkspaceId $workspace.Id | select *, @{Name=\"WorkspaceId\"; Expression={ $workspace.Id } }, @{Name=\"Type\"; Expression={ \"Dataset\" } }\n",
    "    \n",
    "}\n",
    "\n",
    "$pbiDatasets | Sort-Object -Property Id -Unique"
   ]
  },
  {
   "cell_type": "markdown",
   "metadata": {},
   "source": [
    "# Return a list of Power BI dataflows in a workspace\n",
    "\n",
    "Return a listing of the Power BI dataflows within a workspace including the additional attributes WorkspaceId and Type."
   ]
  },
  {
   "cell_type": "code",
   "execution_count": null,
   "metadata": {},
   "outputs": [],
   "source": [
    "$pbiWorkspaces = Get-PowerBIWorkspace -Scope $scopeLevel -First 5\n",
    "\n",
    "$pbiDataflows = @()\n",
    "\n",
    "ForEach ($workspace in $pbiWorkspaces) {\n",
    "\n",
    "    $pbiDataflows += Get-PowerBIDataflow -Scope $scopeLevel -WorkspaceId $workspace.Id | select *, @{Name=\"WorkspaceId\"; Expression={ $workspace.Id } }, @{Name=\"Type\"; Expression={ \"Dataflow\" } }\n",
    "    \n",
    "}\n",
    "\n",
    "$pbiDataflows | Sort-Object -Property Id -Unique"
   ]
  },
  {
   "cell_type": "markdown",
   "metadata": {},
   "source": [
    "# Return a list of Power BI datasources in a dataflow in a workspace\n",
    "\n",
    "Return a listing of the Power BI datasources in a dataflow within a workspace including the additional attributes WorkspaceId, DataflowId and Type."
   ]
  },
  {
   "cell_type": "code",
   "execution_count": null,
   "metadata": {},
   "outputs": [],
   "source": [
    "$pbiWorkspaces = Get-PowerBIWorkspace -Scope $scopeLevel -First 5\n",
    "\n",
    "$pbiDataflowDatasources = @()\n",
    "\n",
    "ForEach ($workspace in $pbiWorkspaces) {\n",
    "\n",
    "    $pbiDataflows += Get-PowerBIDataflow -Scope $scopeLevel -WorkspaceId $workspace.Id\n",
    "\n",
    "    ForEach ($dataflow in $pbiDataflows) {\n",
    "\n",
    "        $pbiDataflowDatasources += Get-PowerBIDataflowDatasource -Scope $scopeLevel -WorkspaceId $workspace.Id -DataflowId $dataflow.Id | select *, @{Name=\"WorkspaceId\"; Expression={ $workspace.Id } }, @{Name=\"DataflowId\"; Expression={ $dataflow.Id } }, @{Name=\"Type\"; Expression={ \"Dataflow Datasource\" } }\n",
    "\n",
    "    }\n",
    "    \n",
    "}\n",
    "\n",
    "$pbiDataflowDatasources | Sort-Object -Property Id -Unique"
   ]
  },
  {
   "cell_type": "markdown",
   "metadata": {},
   "source": [
    "# Return a list of Power BI reports in a workspace\n",
    "\n",
    "Return a listing of the Power BI reports within a workspace including the additional attributes WorkspaceId and Type."
   ]
  },
  {
   "cell_type": "code",
   "execution_count": null,
   "metadata": {},
   "outputs": [],
   "source": [
    "$pbiWorkspaces = Get-PowerBIWorkspace -Scope $scopeLevel -First 5\n",
    "\n",
    "$pbiReports = @()\n",
    "\n",
    "ForEach ($workspace in $pbiWorkspaces) {\n",
    "\n",
    "    $pbiReports += Get-PowerBIReport -Scope $scopeLevel -WorkspaceId $workspace.Id | select *, @{Name=\"WorkspaceId\"; Expression={ $workspace.Id } }, @{Name=\"Type\"; Expression={ \"Report\" } }\n",
    "    \n",
    "}\n",
    "\n",
    "$pbiReports | Sort-Object -Property Id -Unique"
   ]
  },
  {
   "cell_type": "markdown",
   "metadata": {},
   "source": [
    "# Return a list of Power BI dashboards in a workspace\n",
    "\n",
    "Return a listing of the Power BI dasbhoards within a workspace including the additional attributes WorkspaceId and Type."
   ]
  },
  {
   "cell_type": "code",
   "execution_count": null,
   "metadata": {},
   "outputs": [],
   "source": [
    "$pbiWorkspaces = Get-PowerBIWorkspace -Scope $scopeLevel -First 5\n",
    "\n",
    "$pbiDashboards = @()\n",
    "\n",
    "ForEach ($workspace in $pbiWorkspaces) {\n",
    "\n",
    "    $pbiDashboards += Get-PowerBIDashboard -Scope $scopeLevel -WorkspaceId $workspace.Id | select *, @{Name=\"WorkspaceId\"; Expression={ $workspace.Id } }, @{Name=\"Type\"; Expression={ \"Dashboard\" } }\n",
    "    \n",
    "}\n",
    "\n",
    "$pbiDashboards | Sort-Object -Property Id -Unique"
   ]
  },
  {
   "cell_type": "markdown",
   "metadata": {},
   "source": [
    "# Return a list of Power BI tiles on a dashboard in a workspace\n",
    "\n",
    "Return a listing of the Power BI tiles on a dashboard within a workspace including the additional attributes WorkspaceId, DashboardId and Type.\n",
    "\n"
   ]
  },
  {
   "cell_type": "code",
   "execution_count": null,
   "metadata": {},
   "outputs": [],
   "source": [
    "$pbiWorkspaces = Get-PowerBIWorkspace -Scope $scopeLevel -First 5\n",
    "\n",
    "$pbiTiles = @()\n",
    "\n",
    "ForEach ($workspace in $pbiWorkspaces) {\n",
    "\n",
    "    $pbiDashboards = Get-PowerBIDashboard -Scope $scopeLevel -WorkspaceId $workspace.Id\n",
    "\n",
    "    ForEach ($dashboard in $pbiDashboards) {\n",
    "\n",
    "        $pbiTiles += Get-PowerBITile -Scope $scopeLevel -WorkspaceId $workspace.Id -DashboardId $dashboard.Id | select *, @{Name=\"WorkspaceId\"; Expression={ $workspace.Id } }, @{Name=\"DashboardId\"; Expression={ $dashboard.Id } }, @{Name=\"Type\"; Expression={ \"Tile\" } }\n",
    "\n",
    "    }\n",
    "    \n",
    "}\n",
    "\n",
    "$pbiTiles | Sort-Object -Property Id -Unique"
   ]
  },
  {
   "cell_type": "markdown",
   "metadata": {},
   "source": [
    "# Return a list of the Power BI import state of a dataset in a workspace\n",
    "\n",
    "Return a listing of the Power BI import state in a workspace including the additional attribute WorkspaceId.\n",
    "\n",
    "- ImportState\n",
    "    - Succeeded\n",
    "    - Failed"
   ]
  },
  {
   "cell_type": "code",
   "execution_count": null,
   "metadata": {
    "tags": []
   },
   "outputs": [],
   "source": [
    "$pbiWorkspaces = Get-PowerBIWorkspace -Scope $scopeLevel -First 5\n",
    "\n",
    "$pbiImports = @()\n",
    "\n",
    "ForEach ($workspace in $pbiWorkspaces) {\n",
    "\n",
    "    $pbiImports += Get-PowerBIImport -Scope $scopeLevel -WorkspaceId $workspace.Id | select *, @{Name=\"WorkspaceId\"; Expression={ $workspace.Id } }\n",
    "    \n",
    "}\n",
    "\n",
    "$pbiImports | Sort-Object -Property Id -Unique"
   ]
  },
  {
   "cell_type": "markdown",
   "metadata": {},
   "source": [
    "# Return a list of the Power BI data sources of a dataset in a workspace\n",
    "\n",
    "Return a listing of the Power BI data sources of a dataset in a workspace including the additional attributes WorkspaceId and Type."
   ]
  },
  {
   "cell_type": "code",
   "execution_count": null,
   "metadata": {
    "tags": []
   },
   "outputs": [],
   "source": [
    "$pbiWorkspaces = Get-PowerBIWorkspace -Scope $scopeLevel -First 5\n",
    "\n",
    "$pbiDatasets = @()\n",
    "\n",
    "ForEach ($workspace in $pbiWorkspaces) {\n",
    "\n",
    "    $pbiDashboards = Get-PowerBIDashboard -Scope $scopeLevel -WorkspaceId $workspace.Id\n",
    "\n",
    "    ForEach ($dashboard in $pbiDashboards) {\n",
    "\n",
    "        $pbiTiles += Get-PowerBITile -Scope $scopeLevel -WorkspaceId $workspace.Id -DashboardId $dashboard.Id | select *, @{Name=\"WorkspaceId\"; Expression={ $workspace.Id } }, @{Name=\"DashboardId\"; Expression={ $dashboard.Id } }, @{Name=\"Type\"; Expression={ \"Tile\" } }\n",
    "\n",
    "    }\n",
    "    \n",
    "}\n",
    "\n",
    "$pbiTiles | Sort-Object -Property Id -Unique"
   ]
  }
 ],
 "metadata": {
  "kernelspec": {
   "display_name": ".NET (PowerShell)",
   "language": "PowerShell",
   "name": ".net-powershell"
  },
  "language_info": {
   "file_extension": ".ps1",
   "mimetype": "text/x-powershell",
   "name": "PowerShell",
   "pygments_lexer": "powershell",
   "version": "7.0"
  }
 },
 "nbformat": 4,
 "nbformat_minor": 4
}
