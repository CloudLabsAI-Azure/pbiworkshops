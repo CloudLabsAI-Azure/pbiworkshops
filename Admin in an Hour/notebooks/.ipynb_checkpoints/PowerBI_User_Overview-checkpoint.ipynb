{
 "cells": [
  {
   "cell_type": "markdown",
   "metadata": {},
   "source": [
    "# Connect to Power BI service\n",
    "Login with Azure Active Directory user authentication or Service Principal credentials."
   ]
  },
  {
   "cell_type": "code",
   "execution_count": null,
   "metadata": {
    "scrolled": false,
    "tags": []
   },
   "outputs": [],
   "source": [
    "Connect-PowerBIServiceAccount"
   ]
  },
  {
   "cell_type": "markdown",
   "metadata": {},
   "source": [
    "# Return a list of the Power BI Apps installed by the user\n",
    "\n",
    "Return a listing of the Power BI apps installed by the user including the additional attribute Type."
   ]
  },
  {
   "cell_type": "code",
   "execution_count": null,
   "metadata": {
    "tags": []
   },
   "outputs": [],
   "source": [
    "$json = Invoke-PowerBIRestMethod -Url 'https://api.powerbi.com/v1.0/myorg/apps' -Method GET\n",
    "\n",
    "# Include Type as App\n",
    "$json = $json | Out-String | ConvertFrom-Json\n",
    "$json | Add-Member -Type NoteProperty -Name 'Type' -Value \"App\"\n",
    "\n",
    "$pbiApps += $json | ConvertTo-Json\n",
    "\n",
    "$pbiApps | Sort-Object -Property id -Unique"
   ]
  },
  {
   "cell_type": "markdown",
   "metadata": {},
   "source": [
    "# Returns a list of enabled features"
   ]
  },
  {
   "cell_type": "code",
   "execution_count": null,
   "metadata": {
    "scrolled": true
   },
   "outputs": [],
   "source": [
    "$json = Invoke-PowerBIRestMethod -URL 'https://api.powerbi.com/v1.0/myorg/availableFeatures' -Method GET\n",
    "\n",
    "$pbiFeatures = (ConvertFrom-Json $json).psobject.properties.Value\n",
    "\n",
    "$pbiFeatures | Sort-Object -Property name -Unique"
   ]
  }
 ],
 "metadata": {
  "kernelspec": {
   "display_name": ".NET (PowerShell)",
   "language": "PowerShell",
   "name": ".net-powershell"
  },
  "language_info": {
   "file_extension": ".ps1",
   "mimetype": "text/x-powershell",
   "name": "PowerShell",
   "pygments_lexer": "powershell",
   "version": "7.0"
  }
 },
 "nbformat": 4,
 "nbformat_minor": 4
}
