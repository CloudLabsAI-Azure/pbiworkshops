{
 "cells": [
  {
   "cell_type": "markdown",
   "metadata": {},
   "source": [
    "# Microsoft Power BI Cmdlets for Windows PowerShell and PowerShell Core\n",
    "The following cmdlets are available on PowerShell Gallery and can be installed in an elevated PowerShell session:\n",
    "- [Microsoft Power BI](https://docs.microsoft.com/en-us/powershell/power-bi/overview?view=powerbi-ps)\n",
    "- [Data Gateway](https://docs.microsoft.com/en-us/powershell/module/datagateway/?view=datagateway-ps)"
   ]
  },
  {
   "cell_type": "code",
   "execution_count": null,
   "metadata": {
    "tags": []
   },
   "outputs": [],
   "source": [
    "$modules = @(\"MicrosoftPowerBIMGMT\")\n",
    "\n",
    "foreach ( $m in $modules ) \n",
    "{\n",
    "    if (Get-Module -ListAvailable -Name $m) {\n",
    "        write-host \"Module $m is already imported.\"\n",
    "    } \n",
    "    else {\n",
    "        Install-Module -Name $m -Force -Scope CurrentUser\n",
    "        Import-Module $m\n",
    "    }\n",
    "}"
   ]
  },
  {
   "cell_type": "markdown",
   "metadata": {},
   "source": [
    "# Connect to Power BI service\n",
    "Login with Azure Active Directory user authentication or Service Principal credentials.\n",
    "\n",
    "For Service Principal:\n",
    "- Connect-PowerBIServiceAccount -ServicePrincipal -Credential (Get-Credential)"
   ]
  },
  {
   "cell_type": "code",
   "execution_count": null,
   "metadata": {
    "scrolled": false,
    "tags": []
   },
   "outputs": [],
   "source": [
    "Connect-PowerBIServiceAccount"
   ]
  },
  {
   "cell_type": "markdown",
   "metadata": {},
   "source": [
    "# Current Execution Time"
   ]
  },
  {
   "cell_type": "code",
   "execution_count": null,
   "metadata": {},
   "outputs": [],
   "source": [
    "$currentTime = Get-Date\n",
    "\n",
    "Write-Host \"Current Execution Time: $($currentTime)\""
   ]
  },
  {
   "cell_type": "markdown",
   "metadata": {},
   "source": [
    "# Scope\n",
    "\n",
    "Indicates the scope of the call.\n",
    "- -Scope Individual\n",
    "    - Returns only workspaces assigned to the caller.\n",
    "- -Scope Organization\n",
    "    - Returns all workspaces within a tenant (must be an administrator to initiate)."
   ]
  },
  {
   "cell_type": "code",
   "execution_count": null,
   "metadata": {},
   "outputs": [],
   "source": [
    "$scopeLevel = \"Organization\"\n",
    "\n",
    "Write-Host \"Current Scope: $($scopeLevel)\""
   ]
  },
  {
   "cell_type": "markdown",
   "metadata": {},
   "source": [
    "# Return a list of all Power BI group workspaces\n",
    "\n",
    "Return a listing of the Power BI group workspaces including Id, Name, IsReadOnly and IsOnDedicatedCapacity."
   ]
  },
  {
   "cell_type": "code",
   "execution_count": null,
   "metadata": {
    "tags": []
   },
   "outputs": [],
   "source": [
    "$pbiWorkspaces = Get-PowerBIWorkspace -Scope $scopeLevel -All | ?{$_.Name -NotMatch \"PersonalWorkspace*\"} | select *, @{Name=\"CurrentTime\"; Expression={ $currentTime } }\n",
    "\n",
    "$pbiWorkspaces | Export-CSV -Path \"C:\\temp\\Power BI\\Outputs\\Workspaces.csv\" -NoTypeInformation -Append"
   ]
  },
  {
   "cell_type": "markdown",
   "metadata": {},
   "source": [
    "# Return a list of Power BI artifacts in a workspace\n",
    "\n",
    "Return a listing of all the Power BI artifcats within a workspace including additional attributes where applicable."
   ]
  },
  {
   "cell_type": "code",
   "execution_count": null,
   "metadata": {},
   "outputs": [],
   "source": [
    "ForEach ($workspace in $pbiWorkspaces) {\n",
    "\n",
    "    $pbiDatasets = \"\"\n",
    "    $pbiReports = \"\"\n",
    "    $pbiDashboards = \"\"\n",
    "    $pbiTiles = @()\n",
    "    $pbiDataflows = \"\"\n",
    "    $pbiDataflowDatasources = @()\n",
    "\n",
    "    $pbiDatasets = Get-PowerBIDataset -Scope $scopeLevel -WorkspaceId $workspace.Id\n",
    "    | Select-Object *\n",
    "        , @{Name = \"WorkspaceId\"; Expression = { $workspace.Id } }\n",
    "        , @{Name = \"Type\"; Expression = { \"Dataset\" } }\n",
    "    \n",
    "    $pbiReports = Get-PowerBIReport -Scope $scopeLevel -WorkspaceId $workspace.Id \n",
    "    | Select-Object *\n",
    "        , @{Name = \"WorkspaceId\"; Expression = { $workspace.Id } }\n",
    "        , @{Name = \"Type\"; Expression = { \"Report\" } }\n",
    "    \n",
    "    $pbiDashboards = Get-PowerBIDashboard -Scope $scopeLevel -WorkspaceId $workspace.Id \n",
    "    | Select-Object *\n",
    "        , @{Name = \"WorkspaceId\"; Expression = { $workspace.Id } }\n",
    "        , @{Name = \"Type\"; Expression = { \"Dashboard\" } }\n",
    "    \n",
    "    ForEach ($dashboard in $pbiDashboards) {\n",
    "        $pbiTiles += Get-PowerBITile -Scope $scopeLevel -DashboardId $dashboard.Id \n",
    "        | Select-Object *\n",
    "            , @{Name = \"WorkspaceId\"; Expression = { $workspace.Id } }\n",
    "            , @{Name = \"DashboardId\"; Expression = { $dashboard.Id } }\n",
    "            , @{Name = \"Type\"; Expression = { \"Tile\" } }\n",
    "    }\n",
    "\n",
    "    $pbiDataflows = Get-PowerBIDataflow -Scope $scopeLevel -WorkspaceId $workspace.Id \n",
    "    | Select-Object *\n",
    "        , @{Name = \"WorkspaceId\"; Expression = { $workspace.Id } }\n",
    "        , @{Name = \"Type\"; Expression = { \"Dataflow\" } }\n",
    "    \n",
    "    ForEach ($dataflow in $pbiDataflows) {\n",
    "        $pbiDataflowDatasources += Get-PowerBIDataflowDatasource -Scope $scopeLevel -WorkspaceId $workspace.Id -DataflowId $dataflow.Id \n",
    "        | Select-Object *\n",
    "            , @{Name = \"WorkspaceId\"; Expression = { $workspace.Id } }\n",
    "            , @{Name = \"DataflowId\"; Expression = { $dataflow.Id } }\n",
    "            , @{Name = \"Type\"; Expression = { \"Dataflow Datasource\" } }\n",
    "    }\n",
    "    \n",
    "    $pbiArtifacts = @( $pbiDatasets, $pbiReports, $pbiDashboards, $pbiTiles, $pbiDataflows, $pbiDataflowDatasources )\n",
    "    \n",
    "    ForEach ($artifact in $pbiartifacts) {\n",
    "        $outName = $artifact.type | Get-Unique\n",
    "        Write-Host \"Now Exporting: $($workspace.name) - $($outName)\"\n",
    "        \n",
    "        $artifact | Export-CSV -Path \"C:\\temp\\Power BI\\Outputs\\$($outName)s.csv\" -NoTypeInformation -Append\n",
    "    }\n",
    "    \n",
    "}"
   ]
  }
 ],
 "metadata": {
  "kernelspec": {
   "display_name": ".NET (PowerShell)",
   "language": "PowerShell",
   "name": ".net-powershell"
  },
  "language_info": {
   "file_extension": ".ps1",
   "mimetype": "text/x-powershell",
   "name": "PowerShell",
   "pygments_lexer": "powershell",
   "version": "7.0"
  }
 },
 "nbformat": 4,
 "nbformat_minor": 4
}
