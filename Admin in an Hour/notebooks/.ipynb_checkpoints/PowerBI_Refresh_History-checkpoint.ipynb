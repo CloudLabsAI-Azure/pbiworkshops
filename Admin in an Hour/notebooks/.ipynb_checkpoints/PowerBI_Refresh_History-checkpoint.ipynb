{
 "cells": [
  {
   "cell_type": "markdown",
   "metadata": {},
   "source": [
    "# Connect to Power BI service\n",
    "Login with Azure Active Directory user authentication or Service Principal credentials.\n",
    "\n",
    "For Service Principal:\n",
    "- Connect-PowerBIServiceAccount -ServicePrincipal -Credential (Get-Credential)"
   ]
  },
  {
   "cell_type": "code",
   "execution_count": null,
   "metadata": {
    "scrolled": true,
    "tags": []
   },
   "outputs": [],
   "source": [
    "Connect-PowerBIServiceAccount"
   ]
  },
  {
   "cell_type": "markdown",
   "metadata": {},
   "source": [
    "# Current Execution Time"
   ]
  },
  {
   "cell_type": "code",
   "execution_count": null,
   "metadata": {},
   "outputs": [],
   "source": [
    "$currentTime = (Get-Date).ToString(\"yyyy-MM-ddT23:59:59.999\") | foreach {$_ -replace \"[-:\\./]\", \"_\"}\n",
    "\n",
    "Write-Host \"Current Execution Time: $($currentTime)\""
   ]
  },
  {
   "cell_type": "markdown",
   "metadata": {},
   "source": [
    "# Scope\n",
    "\n",
    "Indicates the scope of the call.\n",
    "- -Scope Individual\n",
    "    - Returns only workspaces assigned to the caller.\n",
    "- -Scope Organization\n",
    "    - Returns all workspaces within a tenant (must be an administrator to initiate)."
   ]
  },
  {
   "cell_type": "code",
   "execution_count": null,
   "metadata": {},
   "outputs": [],
   "source": [
    "$scopeLevel = \"Individual\"\n",
    "\n",
    "Write-Host \"Current scope: $($scopeLevel)\""
   ]
  },
  {
   "cell_type": "markdown",
   "metadata": {},
   "source": [
    "# Return a list of all Power BI group workspaces\n",
    "\n",
    "Return a listing of the Power BI group workspaces including Id, Name, IsReadOnly and IsOnDedicatedCapacity."
   ]
  },
  {
   "cell_type": "code",
   "execution_count": null,
   "metadata": {
    "scrolled": true,
    "tags": []
   },
   "outputs": [],
   "source": [
    "$pbiWorkspaces = Get-PowerBIWorkspace -Scope $scopeLevel -All\n",
    "\n",
    "Write-Host \"Total number of workspaces: $($pbiWorkspaces.count)\""
   ]
  },
  {
   "cell_type": "markdown",
   "metadata": {},
   "source": [
    "# Get Dataset Refresh History\n",
    "\n",
    "\n",
    "Return a listing of the refresh history of all datasets."
   ]
  },
  {
   "cell_type": "code",
   "execution_count": null,
   "metadata": {
    "scrolled": true
   },
   "outputs": [],
   "source": [
    "$pbiWorkspaces = Get-PowerBIWorkspace -Scope $scopeLevel -All\n",
    "\n",
    "ForEach ($workspace in $pbiWorkspaces) {\n",
    "\n",
    "    $pbiDatasets = Get-PowerBIDataset -Scope $scopeLevel -WorkspaceId $workspace.Id \n",
    "    | Where-Object { $_.'Name' -ne 'Dashboard Usage Metrics Model' -and $_.'IsRefreshable' -eq 'True' }\n",
    "    \n",
    "    ForEach ($dataset in $pbiDatasets) {\n",
    "        \n",
    "        $json = Invoke-PowerBIRestMethod -URL \"https://api.powerbi.com/v1.0/myorg/groups/$($workspace.Id)/datasets/$($dataset.Id)/refreshes\" -Method GET\n",
    "        \n",
    "        # Include Workspace ID and Dataset ID\n",
    "        $json = $json | ConvertFrom-Json\n",
    "        \n",
    "        #$json -ExpandProperty Values\n",
    "        $json | Add-Member -Type NoteProperty -Name 'WorkspaceId' -Value \"$($workspace.Id)\"\n",
    "        $json | Add-Member -Type NoteProperty -Name 'DatasetId' -Value \"$($dataset.Id)\"\n",
    "        \n",
    "        #Output JSON\n",
    "        ConvertTo-Json -Depth 4 -InputObject $json | Out-File -Path \"C:\\Power BI\\$($dataset.Id)_$($currentTime).json\"\n",
    "    \n",
    "    }\n",
    "    \n",
    "}"
   ]
  }
 ],
 "metadata": {
  "kernelspec": {
   "display_name": ".NET (PowerShell)",
   "language": "PowerShell",
   "name": ".net-powershell"
  },
  "language_info": {
   "file_extension": ".ps1",
   "mimetype": "text/x-powershell",
   "name": "PowerShell",
   "pygments_lexer": "powershell",
   "version": "7.0"
  }
 },
 "nbformat": 4,
 "nbformat_minor": 4
}
