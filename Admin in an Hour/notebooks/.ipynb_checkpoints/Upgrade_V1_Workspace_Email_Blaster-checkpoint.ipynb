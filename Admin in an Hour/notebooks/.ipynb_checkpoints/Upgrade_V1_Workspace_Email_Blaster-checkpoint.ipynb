{
 "cells": [
  {
   "cell_type": "markdown",
   "metadata": {},
   "source": [
    "# Microsoft Power BI Cmdlets for Windows PowerShell and PowerShell Core\n",
    "The following cmdlets are available on PowerShell Gallery and can be installed in an elevated PowerShell session:\n",
    "- [Microsoft Power BI](https://docs.microsoft.com/en-us/powershell/power-bi/overview?view=powerbi-ps)"
   ]
  },
  {
   "cell_type": "code",
   "execution_count": 1,
   "metadata": {
    "scrolled": true
   },
   "outputs": [
    {
     "data": {
      "text/html": [
       "\r\n",
       "<div>\r\n",
       "    <div id='dotnet-interactive-this-cell-20732.5f2f6bb406bd435b8b53951f6ee852b3' style='display: none'>\r\n",
       "        The below script needs to be able to find the current output cell; this is an easy method to get it.\r\n",
       "    </div>\r\n",
       "    <script type='text/javascript'>\r\n",
       "// ensure `require` is available globally\r\n",
       "if (typeof require !== typeof Function || typeof require.config !== typeof Function) {\r\n",
       "    let require_script = document.createElement('script');\r\n",
       "    require_script.setAttribute('src', 'https://cdnjs.cloudflare.com/ajax/libs/require.js/2.3.6/require.min.js');\r\n",
       "    require_script.setAttribute('type', 'text/javascript');\r\n",
       "    require_script.onload = function () {\r\n",
       "        loadDotnetInteractiveApi();\r\n",
       "    };\r\n",
       "\r\n",
       "    document.getElementsByTagName('head')[0].appendChild(require_script);\r\n",
       "}\r\n",
       "else {\r\n",
       "    loadDotnetInteractiveApi();\r\n",
       "}\r\n",
       "\r\n",
       "async function probeAddresses(probingAddresses) {\r\n",
       "    function timeout(ms, promise) {\r\n",
       "        return new Promise(function (resolve, reject) {\r\n",
       "            setTimeout(function () {\r\n",
       "                reject(new Error('timeout'))\r\n",
       "            }, ms)\r\n",
       "            promise.then(resolve, reject)\r\n",
       "        })\r\n",
       "    }\r\n",
       "\r\n",
       "    if (Array.isArray(probingAddresses)) {\r\n",
       "        for (let i = 0; i < probingAddresses.length; i++) {\r\n",
       "\r\n",
       "            let rootUrl = probingAddresses[i];\r\n",
       "\r\n",
       "            if (!rootUrl.endsWith('/')) {\r\n",
       "                rootUrl = `${rootUrl}/`;\r\n",
       "            }\r\n",
       "\r\n",
       "            try {\r\n",
       "                let response = await timeout(1000, fetch(`${rootUrl}discovery`, {\r\n",
       "                    method: 'POST',\r\n",
       "                    cache: 'no-cache',\r\n",
       "                    mode: 'cors',\r\n",
       "                    timeout: 1000,\r\n",
       "                    headers: {\r\n",
       "                        'Content-Type': 'text/plain'\r\n",
       "                    },\r\n",
       "                    body: probingAddresses[i]\r\n",
       "                }));\r\n",
       "\r\n",
       "                if (response.status == 200) {\r\n",
       "                    return rootUrl;\r\n",
       "                }\r\n",
       "            }\r\n",
       "            catch (e) { }\r\n",
       "        }\r\n",
       "    }\r\n",
       "}\r\n",
       "\r\n",
       "function loadDotnetInteractiveApi() {\r\n",
       "    probeAddresses([\"http://192.168.0.3:1000/\", \"http://100.64.238.26:1000/\", \"http://172.17.11.209:1000/\", \"http://127.0.0.1:1000/\"])\r\n",
       "        .then((root) => {\r\n",
       "            // use probing to find host url and api resources\r\n",
       "            // load interactive helpers and language services\r\n",
       "            let dotnet_require = require.config({\r\n",
       "                context: '20732.5f2f6bb406bd435b8b53951f6ee852b3',\r\n",
       "                paths: {\r\n",
       "                    'dotnet-interactive': `${root}resources`\r\n",
       "                }\r\n",
       "            }) || require;\r\n",
       "            if (!window.dotnet_require) {\r\n",
       "                window.dotnet_require = dotnet_require;\r\n",
       "            }\r\n",
       "        \r\n",
       "            dotnet_require([\r\n",
       "                    'dotnet-interactive/dotnet-interactive'\r\n",
       "                ],\r\n",
       "                function (dotnet) {\r\n",
       "                    dotnet.init(window);\r\n",
       "                },\r\n",
       "                function (error) {\r\n",
       "                    console.log(error);\r\n",
       "                }\r\n",
       "            );\r\n",
       "        })\r\n",
       "        .catch(error => {console.log(error);});\r\n",
       "    }\r\n",
       "    </script>\r\n",
       "</div>"
      ]
     },
     "metadata": {},
     "output_type": "display_data"
    },
    {
     "name": "stdout",
     "output_type": "stream",
     "text": [
      "Module MicrosoftPowerBIMGMT is already imported.\r\n"
     ]
    }
   ],
   "source": [
    "$modules = @(\"MicrosoftPowerBIMGMT\")\n",
    "\n",
    "foreach ( $m in $modules ) \n",
    "{\n",
    "    if (Get-Module -ListAvailable -Name $m) {\n",
    "        write-host \"Module $m is already imported.\"\n",
    "    } \n",
    "    else {\n",
    "        Install-Module -Name $m -Force -Scope CurrentUser\n",
    "        Import-Module $m\n",
    "    }\n",
    "}"
   ]
  },
  {
   "cell_type": "markdown",
   "metadata": {},
   "source": [
    "# Connect to Power BI service\n",
    "Login with Azure Active Directory user authentication.\n",
    "\n",
    "<b>Note:<b> Service Principal credentials are currently not supported."
   ]
  },
  {
   "cell_type": "code",
   "execution_count": null,
   "metadata": {},
   "outputs": [],
   "source": [
    "Connect-PowerBIServiceAccount"
   ]
  },
  {
   "cell_type": "markdown",
   "metadata": {},
   "source": [
    "# Output"
   ]
  },
  {
   "cell_type": "code",
   "execution_count": null,
   "metadata": {},
   "outputs": [],
   "source": [
    "$outPath = \"C:\\Power BI\\Activity Logs\\\""
   ]
  },
  {
   "cell_type": "markdown",
   "metadata": {},
   "source": [
    "# Sender E-mail"
   ]
  },
  {
   "cell_type": "code",
   "execution_count": null,
   "metadata": {},
   "outputs": [],
   "source": [
    "$senderAddress = 'email@domain.com'"
   ]
  },
  {
   "cell_type": "markdown",
   "metadata": {},
   "source": [
    "# Power BI Activity Events"
   ]
  },
  {
   "cell_type": "code",
   "execution_count": 4,
   "metadata": {},
   "outputs": [],
   "source": [
    "$pbiEvents = # Create\n",
    "                'CreateReport', 'CreateDataset', 'CreateDashboard',\n",
    "             # Read\n",
    "                'ShareDashboard','ShareReport',\n",
    "             # Update\n",
    "                 'EditReport', 'EditDataset', 'EditDashboard', 'RefreshDataset', 'SetScheduledRefresh',\n",
    "             # Delete\n",
    "                 'DeleteReport', 'DeleteDataset', 'DeleteDashboard'"
   ]
  },
  {
   "cell_type": "markdown",
   "metadata": {},
   "source": [
    "# Historical Events Offset\n",
    "\n",
    "Refer to your organizations default audit log retention policy for maximum number of days stored. Default is generally a 90 day period.\n",
    "\n",
    "Additional Information: https://docs.microsoft.com/en-us/microsoft-365/compliance/audit-log-retention-policies?view=o365-worldwide"
   ]
  },
  {
   "cell_type": "code",
   "execution_count": null,
   "metadata": {},
   "outputs": [],
   "source": [
    "$offsetDays = 7"
   ]
  },
  {
   "cell_type": "markdown",
   "metadata": {},
   "source": [
    "# Error Handling: \n",
    "\n",
    "Determines if the variable outPath's final character is a forward slash and that folder exists."
   ]
  },
  {
   "cell_type": "code",
   "execution_count": null,
   "metadata": {},
   "outputs": [],
   "source": [
    "if ($outPath.Substring($outPath.Length - 1, 1) -cne \"\\\") { $outPath = $outPath + \"\\\" }\n",
    "if (!(Test-Path $outPath)) { New-Item -ItemType Directory -Force -Path $outPath }"
   ]
  },
  {
   "cell_type": "markdown",
   "metadata": {},
   "source": [
    "# Get Listing of Power BI v1 Workspaces"
   ]
  },
  {
   "cell_type": "code",
   "execution_count": null,
   "metadata": {},
   "outputs": [],
   "source": [
    "$pbiWorkspaces = Get-PowerBIWorkspace -Scope Organization -Filter \"type eq 'Group'\" | Where-Object {$_.State -eq \"Active\"} | select-object -property @{N='WorkspaceId';E={$_.Id}}, Name, isReadOnly, isOnDedicatedCapacity, CapacityId, Description, Type, State, IsOrphaned\n",
    "$pbiWorkspaces | Export-Csv -Path \"$($outpath)v1_Workspaces.csv\" -NoTypeInformation\n",
    "Write-Host \"Total Number of Workspaces Being Evaluated: $($pbiWorkspaces.Count)`n\""
   ]
  },
  {
   "cell_type": "markdown",
   "metadata": {},
   "source": [
    "# Iterate Offset Date Range"
   ]
  },
  {
   "cell_type": "code",
   "execution_count": null,
   "metadata": {},
   "outputs": [],
   "source": [
    "# Iterates Offset Date Range\n",
    "For ($i = 1; $i -le $offsetDays; $i+=1) { \n",
    "    $startEvent = ((Get-Date).AddDays(-$i).ToString(\"yyyy-MM-ddT00:00:00\"))\n",
    "    $endEvent = ((Get-Date).AddDays(-$i).ToString(\"yyyy-MM-ddT23:59:59\"))\n",
    " \n",
    "ForEach ( $activity in $pbiEvents ) {\n",
    " \n",
    "    $pbiActivities = Get-PowerBIActivityEvent -StartDateTime $startEvent -EndDateTime $endEvent -ActivityType $activity | ConvertFrom-Json\n",
    "    Write-Host \"Evaluating $($startEvent.Substring(0,10)): $($activity) - $($pbiActivities.Count) Total Activities\"\n",
    " \n",
    "        if ($pbiActivities.Count -ne 0) {\n",
    "            Compare-Object $pbiActivities -DifferenceObject $pbiWorkspaces -Property 'WorkspaceId' -IncludeEqual -ExcludeDifferent -PassThru |\n",
    "            ForEach ` { \n",
    "                $_ | Select * -ExcludeProperty SideIndicator\n",
    "            } | Where-Object {$_.RecordType -ne $null} | Export-Csv -Path \"$($outpath)Power_BI_V1_Activity_Logs.csv\" -NoTypeInformation -Force -Append\n",
    "    }}}\n",
    " \n"
   ]
  },
  {
   "cell_type": "markdown",
   "metadata": {},
   "source": [
    "# Disconnect from Power BI service"
   ]
  },
  {
   "cell_type": "code",
   "execution_count": null,
   "metadata": {},
   "outputs": [],
   "source": [
    "Disconnect-PowerBIServiceAccount"
   ]
  },
  {
   "cell_type": "markdown",
   "metadata": {},
   "source": [
    "# Send E-mail Preview\n",
    "\n",
    "Includes the Workspace Name, the WorkspaceId and the URL to navigate to the workspace."
   ]
  },
  {
   "cell_type": "markdown",
   "metadata": {},
   "source": [
    "![Email Preview](..\\images\\upgrade_email_blaster.png)"
   ]
  },
  {
   "cell_type": "markdown",
   "metadata": {},
   "source": [
    "# Send E-mail from Outlook"
   ]
  },
  {
   "cell_type": "code",
   "execution_count": 6,
   "metadata": {},
   "outputs": [],
   "source": [
    "if ($outPath.Substring($outPath.Length - 1, 1) -cne \"\\\") { $outPath = $outPath + \"\\\" } \n",
    " \n",
    "$existingWorkspaces = Import-CSV -Path \"$($outPath)v1_Workspaces.csv\"\n",
    "$v1Activities = Import-Csv -Path \"$($outPath)\\Power_BI_V1_Activity_Logs.csv\"\n",
    "$V1Users = $v1Activities | Select UserId -Unique\n",
    " \n",
    "#Get an Outlook application object\n",
    "$o = New-Object -com Outlook.Application\n",
    " \n",
    "ForEach ($v1User in $V1Users) {\n",
    " \n",
    "    $V1Workspaces = $v1Activities | Select UserId, WorkSpaceName, WorkspaceId -Unique | Where-Object {$_.UserId -eq $v1User.UserId}\n",
    " \n",
    "    if ($V1Workspaces.Count -ne 0) {\n",
    " \n",
    "        $mail = $o.CreateItem(0)\n",
    " \n",
    "        $mail.Sender= $senderAddress\n",
    "        $mail.To = $v1User.UserId\n",
    "        $mail.Subject = 'Action Required: Upgrade Power BI Workspace(s)'\n",
    "        $mail.HtmlBody = (Compare-Object -ReferenceObject $existingWorkspaces -DifferenceObject $V1Workspaces -Property 'WorkspaceId' -IncludeEqual -ExcludeDifferent -PassThru |\n",
    "                ForEach ` { $_ | Select Name, WorkspaceId, @{l=\"URL\";e={\"https://ddec1-0-en-ctp.trendmicro.com:443/wis/clicktime/v1/query?url=https%3a%2f%2fapp.powerbi.com%2fgroups%2f&umid=874631f4-a2ec-49b0-86ed-9e5bb484c040&auth=65a620fa4b6e2edf0405a6ed61dc7465231096cd-5450d311e70f7751b1de5436ba6c3e3f8e20330b$($_.WorkspaceId)\"}}} | \n",
    "                ConvertTo-HTML -Title 'Power BI Workspace Upgrade' -Body \"The following Power BI workspace(s) are currently out of compliance. Please visit the URL(s) below to upgrade now.<br><br>For instructions on how to upgrade classic workspaces to the new workspace experience, <a href=https://ddec1-0-en-ctp.trendmicro.com:443/wis/clicktime/v1/query?url=https%3a%2f%2fdocs.microsoft.com%2fen%2dus%2fpower%2dbi%2fdesigner%2fservice%2dupgrade%2dworkspaces%3eclick&umid=8a3e0ca7-9b90-481c-a86d-52d6842b1c29&auth=65a620fa4b6e2edf0405a6ed61dc7465231096cd-cc0518f527e63f63f3164e539d3a098b70f9c03d here</a> to learn more.<br><br>\" -PostContent \"<br>Thank you in advance for your time and assistance.\" | Out-String )\n",
    "        $mail.Importance = 2\n",
    " \n",
    "        $mail.Send()\n",
    " \n",
    "        # give time to send the email\n",
    "        Start-Sleep 20\n",
    " \n",
    "    }\n",
    "}\n",
    "# quit Outlook and exit script\n",
    "$o.Quit()\n",
    "exit"
   ]
  },
  {
   "cell_type": "code",
   "execution_count": null,
   "metadata": {},
   "outputs": [],
   "source": []
  }
 ],
 "metadata": {
  "kernelspec": {
   "display_name": ".NET (PowerShell)",
   "language": "PowerShell",
   "name": ".net-powershell"
  },
  "language_info": {
   "file_extension": ".ps1",
   "mimetype": "text/x-powershell",
   "name": "PowerShell",
   "pygments_lexer": "powershell",
   "version": "7.0"
  }
 },
 "nbformat": 4,
 "nbformat_minor": 4
}
