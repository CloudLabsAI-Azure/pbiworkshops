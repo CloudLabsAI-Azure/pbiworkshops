{
    "metadata": {
        "kernelspec": {
            "name": "powershell",
            "display_name": "PowerShell",
            "language": "powershell"
        },
        "language_info": {
            "name": "powershell",
            "codemirror_mode": "shell",
            "mimetype": "text/x-sh",
            "file_extension": ".ps1"
        }
    },
    "nbformat_minor": 2,
    "nbformat": 4,
    "cells": [
        {
            "cell_type": "markdown",
            "source": [
                "# Admin in an Hour"
            ],
            "metadata": {
                "azdata_cell_guid": "2360639b-6b72-4e34-9d19-d07b4cd676da"
            }
        },
        {
            "cell_type": "markdown",
            "source": [
                "<img align=\"left\" width=\"100\" height=\"100\" src=\"https://raw.githubusercontent.com/microsoft/pbiworkshops/main/_Asset%20Library/powerbi.svg\">\n",
                "<img align=\"left\" width=\"100\" height=\"100\" src=\"https://raw.githubusercontent.com/microsoft/pbiworkshops/main/Admin%20in%20an%20Hour/Images/ps_black_128.svg\">"
            ],
            "metadata": {
                "azdata_cell_guid": "7c7dd08d-3543-45a3-a6de-403b7b61a773"
            }
        },
        {
            "cell_type": "markdown",
            "source": [
                "## Table of Contents\n",
                "- **Jupyter Notebook Navigation**\n",
                "- **PowerShell Introduction**\n",
                "    - Hello, World\n",
                "        - Parameters\n",
                "        - Get-Help\n",
                "    - Variables\n",
                "        - Object Properties\n",
                "    - Iteration\n",
                "    - Noun-Verb\n",
                "- **PowerShell for Power BI**\n",
                "    - Install Microsoft Power BI modules\n",
                "    - Available Cmdlets\n",
                "- **Connect to Power BI service**\n",
                "    - Service Principal\n",
                "    - Return a list of Power BI workspaces\n",
                "    - Scope\n",
                "    - Return a count of all Power BI workspaces\n",
                "    - Workspace Administration\n",
                "- **Power BI Artifacts**\n",
                "    - Power BI REST API\n",
                "    - Admin - GetGroupsAsAdmin\n",
                "- **Power BI Licensing**\n",
                "- **Power BI Activity Events**\n",
                "- **Output**\n",
                "- **Continue Your Journey**"
            ],
            "metadata": {
                "azdata_cell_guid": "b118fae0-93c7-4594-be87-e582f959726d"
            }
        },
        {
            "cell_type": "markdown",
            "source": [
                "# Jupyter Notebook Navigation\n",
                "\n",
                "Below are some important navigation items for getting started.\n",
                "- To move up or down the notebook you can use the standard directional keys ⬆⬇\n",
                "- The keyboard combination **Ctrl+Enter** allows you to:\n",
                "    - Run a cell which contains **Code**\n",
                "    - Exit edit mode in a **Markdown** cell\n",
                "\n",
                "[For a list of shortcuts](https://cheatography.com/weidadeyue/cheat-sheets/jupyter-notebook/)"
            ],
            "metadata": {
                "azdata_cell_guid": "765fcd2d-7014-4d89-8321-2386ab490365"
            }
        },
        {
            "cell_type": "markdown",
            "source": [
                "# PowerShell Introduction\n",
                "\n",
                "### Objectives: \n",
                "Write to the host, include parameters and return the documentation for the ```Write-Host``` command."
            ],
            "metadata": {
                "azdata_cell_guid": "167b1953-c12d-4aa4-9bc2-f64f9bbeb5ee"
            }
        },
        {
            "cell_type": "markdown",
            "source": [
                "### Hello, World\n",
                "\n",
                "1. In the first cell, print the value \"Hello, World\" in the host by using the command:\n",
                "    \n",
                "    ```\n",
                "    Write-Host \"Hello, World\"\n",
                "    ```\n",
                "    \n",
                "\n",
                "2. In the second cell, include the Background and Foreground color parameters from the above command.\n",
                "    \n",
                "    ```\n",
                "    Write-Host \"Hello, World\" -BackgroundColor DarkYellow -ForegroundColor White\n",
                "    ```\n",
                "    \n",
                "\n",
                "3. In the third cell, Utilize Get-Help to return the available parameters for the Write-Host command.\n",
                "    \n",
                "    ```\n",
                "    Get-Help Write-Host\n",
                "    ```"
            ],
            "metadata": {
                "azdata_cell_guid": "0cb53931-364a-445c-9321-a6bd1121565a"
            }
        },
        {
            "cell_type": "code",
            "source": [
                ""
            ],
            "metadata": {
                "dotnet_interactive": {
                    "language": "pwsh"
                },
                "azdata_cell_guid": "e6825349-97ad-4a13-beb2-57ba0401b87a",
                "tags": []
            },
            "outputs": [],
            "execution_count": null
        },
        {
            "cell_type": "code",
            "source": [],
            "metadata": {
                "dotnet_interactive": {
                    "language": "csharp"
                },
                "azdata_cell_guid": "75d22211-7db4-445e-9954-e9a77aad477b",
                "tags": []
            },
            "outputs": [],
            "execution_count": 1
        },
        {
            "cell_type": "code",
            "source": [],
            "metadata": {
                "dotnet_interactive": {
                    "language": "pwsh"
                },
                "azdata_cell_guid": "c573b5cd-3c34-4792-8e06-d527e561fd95",
                "tags": []
            },
            "outputs": [],
            "execution_count": 1
        },
        {
            "cell_type": "markdown",
            "source": [
                "### Objectives:\n",
                "Store a variable, insert into an existing string and return the object's length property."
            ],
            "metadata": {
                "azdata_cell_guid": "8f7ba213-34dc-4dae-8d38-93b11369fdb7"
            }
        },
        {
            "cell_type": "markdown",
            "source": [
                "### Variables\n",
                "1. In the first cell below, store your favorite color in single or double quotes:\n",
                "\n",
                "    ```\n",
                "    $myColor = \"<color>\"\n",
                "    ```\n",
                "    \n",
                "\n",
                "2. In the second cell below, write your favorite color to the host:\n",
                "\n",
                "    ```\n",
                "    Write-Host \"My favorite color is: $($myColor)\"\n",
                "    ```\n",
                "       \n",
                "       \n",
                "3. In the third cell below, return the length of the variable ```$myColor```:\n",
                "\n",
                "    ```\n",
                "    $myColor.length\n",
                "    ```"
            ],
            "metadata": {
                "azdata_cell_guid": "5670f46a-a0bd-4707-8522-25932c395235"
            }
        },
        {
            "cell_type": "code",
            "source": [],
            "metadata": {
                "dotnet_interactive": {
                    "language": "pwsh"
                },
                "azdata_cell_guid": "dd204b5d-bd55-4d7b-8764-6a1aa0d9bc32",
                "tags": []
            },
            "outputs": [],
            "execution_count": 1
        },
        {
            "cell_type": "code",
            "source": [],
            "metadata": {
                "dotnet_interactive": {
                    "language": "pwsh"
                },
                "azdata_cell_guid": "cebe4d8a-0cf1-4997-b4b6-fffd9955a125",
                "tags": []
            },
            "outputs": [],
            "execution_count": 1
        },
        {
            "cell_type": "code",
            "source": [],
            "metadata": {
                "dotnet_interactive": {
                    "language": "pwsh"
                },
                "azdata_cell_guid": "cb57e5bf-d83f-4f55-a5cc-e46d4c54c31c",
                "tags": []
            },
            "outputs": [],
            "execution_count": 1
        },
        {
            "cell_type": "markdown",
            "source": [
                "### Objectives:\n",
                "Create and iterate thru a list of values."
            ],
            "metadata": {
                "azdata_cell_guid": "d2794432-8863-4357-a49b-500729b6248a"
            }
        },
        {
            "cell_type": "markdown",
            "source": [
                "## Iteration\n",
                "\n",
                "The Foreach statement (also known as a Foreach loop) is a language construct for stepping through (iterating) a series of values in a collection of items.\n",
                "\n",
                "1. In the first cell below, store the list of numbers in a variable:\n",
                "\n",
                "    ```\n",
                "    $numbers = @(1,2,3)\n",
                "    ```\n",
                "\n",
                "\n",
                "2. In the second cell below, iterate thru the list using a foreach loop:\n",
                "\n",
                "    ```\n",
                "    foreach ( $item in $numbers ) { $item * 10 }\n",
                "    ```\n",
                "    \n",
                "    \n",
                "Learn more [about_Foreach](https://docs.microsoft.com/en-us/powershell/module/microsoft.powershell.core/about/about_foreach?view=powershell-7)"
            ],
            "metadata": {
                "azdata_cell_guid": "8860cc7f-6136-477c-8deb-cd15248bdfd8"
            }
        },
        {
            "cell_type": "code",
            "source": [],
            "metadata": {
                "dotnet_interactive": {
                    "language": "pwsh"
                },
                "azdata_cell_guid": "41e3f03d-c8c4-4949-8032-61bddf6e9e91",
                "tags": []
            },
            "outputs": [],
            "execution_count": 1
        },
        {
            "cell_type": "code",
            "source": [],
            "metadata": {
                "dotnet_interactive": {
                    "language": "pwsh"
                },
                "azdata_cell_guid": "613bc4a8-2ea0-4fdd-be0f-5d94eb4b9cc8",
                "tags": []
            },
            "outputs": [],
            "execution_count": 1
        },
        {
            "cell_type": "markdown",
            "source": [
                "## Verb-Noun\n",
                "\n",
                "PowerShell uses a verb-noun pair for the names of cmdlets and for their derived .NET classes. The verb part of the name identifies the action that the cmdlet performs. The noun part of the name identifies the entity on which the action is performed. For example, the Get-Command cmdlet retrieves all the commands that are registered in PowerShell.\n",
                "\n",
                "Learn More [Approved Verbs](https://docs.microsoft.com/en-us/powershell/scripting/developer/cmdlet/approved-verbs-for-windows-powershell-commands?view=powershell-7)"
            ],
            "metadata": {
                "azdata_cell_guid": "8a38ee91-40c0-4c26-a1b7-de07a06f30b4"
            }
        },
        {
            "cell_type": "markdown",
            "source": [
                "# PowerShell for Power BI"
            ],
            "metadata": {
                "azdata_cell_guid": "386baaf0-3b54-476d-aa25-1b25bdc51041"
            }
        },
        {
            "cell_type": "markdown",
            "source": [
                "### Objectives:\n",
                "Install the Power BI modules for both Power BI management and data gateways and use the get help and a wildcard to find all accompanying cmdlets."
            ],
            "metadata": {
                "azdata_cell_guid": "32fa8d98-a4b7-4295-b541-ffbbfd04c8ee"
            }
        },
        {
            "cell_type": "markdown",
            "source": [
                "# Install Microsoft Power BI modules\n",
                "\n",
                "The following cmdlets are available on PowerShell Gallery and can be installed in an elevated PowerShell session:\n",
                "\n",
                "- [Microsoft Power BI](https://docs.microsoft.com/en-us/powershell/power-bi/overview?view=powerbi-ps)\n",
                "- [Data Gateway](https://docs.microsoft.com/en-us/powershell/module/datagateway/?view=datagateway-ps)\n",
                "\n",
                "For the sake of the virtual environment, we will add the -Force parameters to force the installation and avoid user prompts.\n",
                "\n",
                "1. In the first cell below, install the Power BI management module using the following command:\n",
                "    \n",
                "    ```\n",
                "    Install-Module MicrosoftPowerBIMGMT -Force -Verbose\n",
                "    ```\n",
                "    \n",
                "\n",
                "2. In the second cell, install the Data Gateway module using the following command:\n",
                "    \n",
                "    ```\n",
                "    Install-Module DataGateway -Force -Verbose\n",
                "    ```"
            ],
            "metadata": {
                "azdata_cell_guid": "33883bd2-031f-4c2f-ac59-701221484203"
            }
        },
        {
            "cell_type": "code",
            "source": [
                ""
            ],
            "metadata": {
                "dotnet_interactive": {
                    "language": "pwsh"
                },
                "azdata_cell_guid": "980e614b-c725-404c-a43a-0eccbac5ad2a",
                "tags": []
            },
            "outputs": [],
            "execution_count": 1
        },
        {
            "cell_type": "code",
            "source": [],
            "metadata": {
                "dotnet_interactive": {
                    "language": "pwsh"
                },
                "azdata_cell_guid": "fc8b44bc-db57-4601-a350-ff2c41f5a077",
                "tags": []
            },
            "outputs": [],
            "execution_count": 1
        },
        {
            "cell_type": "markdown",
            "source": [
                "# Available Cmdlets\n",
                "\n",
                "Return the available cmdlets from either the MicrosoftPowerBIMGMT or DataGateway module, by leveraging wild card searches and sorting and table formatting.\n",
                "\n",
                "1. In the first cell below, search for all Power BI cmdlets using the following command:\n",
                "\n",
                "    ```\n",
                "    Get-Help *PowerBI*\n",
                "    ```\n",
                "    \n",
                "\n",
                "2. Update the first cell, by piping Sort Name to sort the name column:\n",
                "\n",
                "    ```\n",
                "    Get-Help *PowerBI* | Sort-Object Name\n",
                "    ```\n",
                "    \n",
                "    \n",
                "3. Update the first cell, by piping table formatting to auto size the column width:\n",
                "\n",
                "    ```\n",
                "    Get-Help *PowerBI* | Sort-Object Name | Format-Table -AutoSize\n",
                "    ```\n",
                "    \n",
                "    \n",
                "3. In the second cell, return all DataGatway cmdlets, sort by name and format the table by auto sizing the columns:\n",
                "\n",
                "    ```\n",
                "    Get-Help *DataGateway* | Sort-Object Name | Format-Table -AutoSize\n",
                "    ```"
            ],
            "metadata": {
                "azdata_cell_guid": "6d964b7d-e42a-44ce-a02f-3be34f68b7d6"
            }
        },
        {
            "cell_type": "code",
            "source": [],
            "metadata": {
                "dotnet_interactive": {
                    "language": "pwsh"
                },
                "azdata_cell_guid": "2dcb1e93-ddcf-4864-995a-71faa3e1e114",
                "tags": []
            },
            "outputs": [],
            "execution_count": 1
        },
        {
            "cell_type": "code",
            "source": [],
            "metadata": {
                "dotnet_interactive": {
                    "language": "pwsh"
                },
                "azdata_cell_guid": "eeb15484-9de4-4eb3-aaad-abe4f11a4ea3",
                "tags": []
            },
            "outputs": [],
            "execution_count": 1
        },
        {
            "cell_type": "markdown",
            "source": [
                "### Objectives:\n",
                "Connect to the Power BI service with your user autenticated account and begin to query details about the various artifacts in your tenant."
            ],
            "metadata": {
                "azdata_cell_guid": "0adada71-1997-4326-843c-9ecd826dad62"
            }
        },
        {
            "cell_type": "markdown",
            "source": [
                "# Connect to Power BI service\n",
                "\n",
                "Login with Azure Active Directory user authentication or Service Principal credentials.\n",
                "\n",
                "1. In the cell below, login with your user account for the Power BI service.\n",
                "\n",
                "    ```\n",
                "    Connect-PowerBIServiceAccount\n",
                "    ```"
            ],
            "metadata": {
                "azdata_cell_guid": "a3b7da3d-3d67-4cba-b16d-a91241321d41"
            }
        },
        {
            "cell_type": "code",
            "source": [
                ""
            ],
            "metadata": {
                "azdata_cell_guid": "4c0a9f36-e2f8-4357-936a-50626b2768e2"
            },
            "outputs": [],
            "execution_count": null
        },
        {
            "cell_type": "markdown",
            "source": [
                "## Service Principal Authentication\r\n",
                "\r\n",
                "Service principal is an authentication method that can be used to let an Azure Active Directory (Azure AD) application access Power BI service content and APIs. When you create an Azure AD app, a service principal object is created. The service principal object, also known simply as the service principal, allows Azure AD to authenticate your app. Once authenticated, the app can access Azure AD tenant resources.\r\n",
                "\r\n",
                "❗ **Make sure there are no Power BI admin-consent-required permissions set on this application in Azure's App Registration.** ❗ \r\n",
                "\r\n",
                "The Power BI service will handle the access of your application through the \"Allow service principals to use read-only Power BI admin APIs\" tenant setting.\r\n",
                "\r\n",
                "[Read Only Admin APIs](https://docs.microsoft.com/en-us/power-bi/admin/read-only-apis-service-principal-authentication)"
            ],
            "metadata": {
                "azdata_cell_guid": "3424dfc4-38cf-4c78-ae0c-4386d6fea0b5"
            }
        },
        {
            "cell_type": "code",
            "source": [
                "# Parameters\r\n",
                "$TenantId  = \"\"\r\n",
                "$AppId     = \"\"  # Service Principal ID\r\n",
                "$Secret    = \"\"  # Secret from Service Principal\r\n",
                "\r\n",
                "# Connect the Service Principal\r\n",
                "$password = ConvertTo-SecureString $Secret -AsPlainText -Force\r\n",
                "$Creds = New-Object PSCredential $AppId, $password\r\n",
                "Connect-PowerBIServiceAccount -ServicePrincipal -Credential $Creds -Tenant $TenantId"
            ],
            "metadata": {
                "azdata_cell_guid": "f99af914-2d6b-4a3d-aea0-f18e528303f5"
            },
            "outputs": [],
            "execution_count": null
        },
        {
            "cell_type": "markdown",
            "source": [
                "# Return a list of Power BI workspaces\n",
                "\n",
                "Return a list of the Power BI workspaces including the attributes Id, Name, IsReadOnly, IsOrphaned, IsOnDedicatedCapacity and CapacityId.\n",
                "\n",
                "1. In the cell below, return the first 5 workspaces, that you as an Individual user have access to:\n",
                "\n",
                "    ```\n",
                "    Get-PowerBIWorkspace -First 5\n",
                "    ```"
            ],
            "metadata": {
                "azdata_cell_guid": "7d8dea48-fd91-41b6-a850-475bfd18b080"
            }
        },
        {
            "cell_type": "code",
            "source": [],
            "metadata": {
                "azdata_cell_guid": "f884117c-e44f-49d2-aff1-167bfaaa4008"
            },
            "outputs": [],
            "execution_count": null
        },
        {
            "cell_type": "markdown",
            "source": [
                "# Scope\n",
                "\n",
                "Indicates the scope of the call.\n",
                "- -Scope Individual\n",
                "    - Ex: Returns only workspaces assigned to the caller.\n",
                "    - Default Value \n",
                "- -Scope Organization\n",
                "    - Ex: Returns all workspaces within a tenant (must be an administrator to initiate).\n",
                "\n",
                "\n",
                "1. In the cell below, create a variable and define the level of the scope you wish to use:\n",
                "\n",
                "    ```\n",
                "    $scopeLevel = \"<Scope Level>\"\n",
                "    ```"
            ],
            "metadata": {
                "azdata_cell_guid": "4266f7a6-2c5c-4b45-9525-dc68da034608"
            }
        },
        {
            "cell_type": "code",
            "source": [],
            "metadata": {
                "dotnet_interactive": {
                    "language": "pwsh"
                },
                "azdata_cell_guid": "6bc9717b-cebc-4e7c-b18b-9aa3c1632101",
                "tags": []
            },
            "outputs": [],
            "execution_count": 1
        },
        {
            "cell_type": "markdown",
            "source": [
                "# Return a count of all Power BI workspaces\n",
                "\n",
                "Return a count of all the Power BI workspaces within the defined scope.\n",
                "\n",
                "1. In the first cell below, count the total number of workspaces within your scope:\n",
                "\n",
                "    ```\n",
                "    Get-PowerBIWorkspace -Scope $scopeLevel -All | Measure-Object\n",
                "    ```\n",
                "    \n",
                "\n",
                "2. In the second cell below, store all of the workspaces into a variable:\n",
                "\n",
                "    ```\n",
                "    $pbiWorkspaces = Get-PowerBIWorkspace -Scope $scopeLevel -All\n",
                "    ```\n",
                " \n",
                "\n",
                "3. In the third cell below, return the count of all the workspaces from the variable:\n",
                "\n",
                "    ```\n",
                "    $pbiWorkspaces.Count\n",
                "    ```\n",
                "\n",
                "\n",
                "4. In the foruth cell below, return the first item from the collection:\n",
                "\n",
                "    ```\n",
                "    $pbiWorkspaces[0]\n",
                "    ```"
            ],
            "metadata": {
                "azdata_cell_guid": "aacb65cb-0fd2-4e15-a8d2-00ddba050f2f"
            }
        },
        {
            "cell_type": "code",
            "source": [],
            "metadata": {
                "dotnet_interactive": {
                    "language": "pwsh"
                },
                "azdata_cell_guid": "a3f2c7ee-9832-48cc-825c-ffcdaf2072de",
                "tags": []
            },
            "outputs": [],
            "execution_count": 1
        },
        {
            "cell_type": "code",
            "source": [],
            "metadata": {
                "dotnet_interactive": {
                    "language": "pwsh"
                },
                "azdata_cell_guid": "2becf6e3-a683-4c6c-aba4-9bb4b352a477",
                "tags": []
            },
            "outputs": [],
            "execution_count": 1
        },
        {
            "cell_type": "code",
            "source": [],
            "metadata": {
                "dotnet_interactive": {
                    "language": "pwsh"
                },
                "azdata_cell_guid": "fab3c95e-e5e7-4e1c-b8a0-482805509060",
                "tags": []
            },
            "outputs": [],
            "execution_count": 1
        },
        {
            "cell_type": "code",
            "source": [],
            "metadata": {
                "dotnet_interactive": {
                    "language": "pwsh"
                },
                "azdata_cell_guid": "600ae3e0-1918-4fac-b930-21e74e46b254",
                "tags": []
            },
            "outputs": [],
            "execution_count": 1
        },
        {
            "cell_type": "markdown",
            "source": [
                "# Workspace Administration\r\n",
                "\r\n",
                "Create a new workspace, add a user and **optional** migrate the workspace to a premium capacity and then to a shared.\r\n",
                "\r\n",
                "[New workspace](https://docs.microsoft.com/en-us/powershell/module/microsoftpowerbimgmt.workspaces/new-powerbiworkspace?view=powerbi-ps)\r\n",
                "\r\n",
                "[Add a user](https://docs.microsoft.com/en-us/powershell/module/microsoftpowerbimgmt.workspaces/add-powerbiworkspaceuser?view=powerbi-ps)\r\n",
                "\r\n",
                "[Access Rights](https://docs.microsoft.com/en-us/power-bi/collaborate-share/service-new-workspaces#roles-in-the-new-workspaces)\r\n",
                "\r\n",
                "[Set workspace](https://docs.microsoft.com/en-us/powershell/module/microsoftpowerbimgmt.workspaces/set-powerbiworkspace?view=powerbi-ps)"
            ],
            "metadata": {
                "azdata_cell_guid": "63d67bea-2e5a-463b-9259-9a037eba0a8f"
            }
        },
        {
            "cell_type": "code",
            "source": [
                ""
            ],
            "metadata": {
                "azdata_cell_guid": "80dae115-d72c-4b5f-874a-09c5fa04c6b6"
            },
            "outputs": [],
            "execution_count": null
        },
        {
            "cell_type": "code",
            "source": [
                ""
            ],
            "metadata": {
                "azdata_cell_guid": "72395c40-757e-4ac8-9524-89974176ce0c"
            },
            "outputs": [],
            "execution_count": null
        },
        {
            "cell_type": "code",
            "source": [
                ""
            ],
            "metadata": {
                "azdata_cell_guid": "d97f199e-a177-47d8-b5ea-fef2f7a5f9c5"
            },
            "outputs": [],
            "execution_count": null
        },
        {
            "cell_type": "markdown",
            "source": [
                "# Power BI REST API\n",
                "\n",
                "Provides service endpoints for administration, user resources and embedding.\n",
                "\n",
                "[Learn More](https://docs.microsoft.com/en-us/rest/api/power-bi/)"
            ],
            "metadata": {
                "azdata_cell_guid": "b40a5419-bdbb-434c-9eca-e3929f544c23"
            }
        },
        {
            "cell_type": "markdown",
            "source": [
                "1. In the first cell below, search for any Power BI cmdlets that allow you to invoke the Power BI REST API:\n",
                "    \n",
                "    ```\n",
                "    Get-Help *PowerBI* | Sort-Object Name | Format-Table -AutoSize\n",
                "    ```\n",
                "    \n",
                "2. In the second cell below, return the full documentation for the appropriate cmdlet:\n",
                "    \n",
                "    ```\n",
                "    Get-Help Invoke-PowerBIRestMethod -Full\n",
                "    ```"
            ],
            "metadata": {
                "azdata_cell_guid": "95072541-02ab-47d6-af4f-1807ae2c1ef6"
            }
        },
        {
            "cell_type": "code",
            "source": [],
            "metadata": {
                "dotnet_interactive": {
                    "language": "pwsh"
                },
                "azdata_cell_guid": "6ff7a1c1-5e82-465f-b066-01a571e6f2ed",
                "tags": []
            },
            "outputs": [],
            "execution_count": 1
        },
        {
            "cell_type": "code",
            "source": [
                ""
            ],
            "metadata": {
                "dotnet_interactive": {
                    "language": "pwsh"
                },
                "azdata_cell_guid": "0f8e842a-b8b0-488b-8450-42fa759f1b05",
                "tags": []
            },
            "outputs": [],
            "execution_count": null
        },
        {
            "cell_type": "markdown",
            "source": [
                "# Admin - Groups GetGroupsAsAdmin\n",
                "\n",
                "Returns a list of workspaces for the organization and the underlying artifacts.\n",
                "\n",
                "- Dataflows\n",
                "- Datasets\n",
                "- Reports\n",
                "- Dashboards\n",
                "- Workbooks\n",
                "- Users\n",
                "\n",
                "This API allows 200 requests per hour at maximum.\n",
                "\n",
                "**Note:** The user must have administrator rights (such as Office 365 Global Administrator or Power BI Service Administrator) to call this API or authenticate via service principal. \n",
                "\n",
                "Learn More: [https://docs.microsoft.com/en-us/rest/api/power-bi/admin/groups\\_getgroupsasadmin](https://docs.microsoft.com/en-us/rest/api/power-bi/admin/groups_getgroupsasadmins)  \n",
                "\n",
                "1. In the cell below, using the Invoke-PowerBIRestMethod complete the GetGroupsAsAdmin:\n",
                "    \n",
                "    ```\n",
                "    Invoke-PowerBIRestMethod\n",
                "    ```"
            ],
            "metadata": {
                "azdata_cell_guid": "9a400996-9412-4faa-b838-6728e2c0d7c8"
            }
        },
        {
            "cell_type": "code",
            "source": [
                "$wsCount = 5\n",
                "$url = \"https://api.powerbi.com/v1.0/myorg/admin/groups?%24top=$($wsCount)&%24expand=dataflows,datasets,reports,dashboards,workbooks,users\"\n",
                "\n",
                ""
            ],
            "metadata": {
                "azdata_cell_guid": "f8fcc11a-43fb-41eb-9506-ca1994b75310",
                "tags": []
            },
            "outputs": [],
            "execution_count": null
        },
        {
            "cell_type": "markdown",
            "source": [
                "# Power BI Licensing\n",
                "\n",
                "Official Docs: [https://docs.microsoft.com/en-us/power-bi/admin/service-admin-licensing-organization#license-types-and-capabilities](https://docs.microsoft.com/en-us/power-bi/admin/service-admin-licensing-organization#license-types-and-capabilities)\n",
                "\n",
                "- Power\\_BI\\_Pro = Power BI Pro\n",
                "- Power\\_BI\\_Standard = Power BI (free)\n",
                "\n",
                "[Full Sample](https://github.com/itsnotaboutthecell/PowerBI-cmdlets/blob/master/notebooks/Power_BI_User_Licenses.ps1)"
            ],
            "metadata": {
                "azdata_cell_guid": "d80157ad-b708-465d-82d8-52b72a996933"
            }
        },
        {
            "cell_type": "code",
            "source": [
                "$m = \"MSOnline\"\r\n",
                "\r\n",
                "try {Import-Module $m -ErrorAction Stop -Force} \r\n",
                "catch {Install-Module -Name $m -Scope CurrentUser -Force} \r\n",
                "finally {Import-Module $m -Force}\r\n",
                "\r\n",
                "Connect-MsolService\r\n",
                "\r\n",
                "$licenseType = \"Power_BI_Pro\", \"Power_BI_Standard\"\r\n",
                "\r\n",
                "$allUsers = Get-MsolUser -All | Where-Object {$_.isLicensed -eq \"True\" }\r\n",
                "\r\n",
                "foreach ($license in $licenseType) {\r\n",
                "\r\n",
                "    $licenses = $allUsers | Where-Object {($_.licenses).AccountSkuId -match ($license)}\r\n",
                "\r\n",
                "    Write-Host \"Current License: $($license)\"\r\n",
                "    $licenses\r\n",
                "\r\n",
                "}"
            ],
            "metadata": {
                "azdata_cell_guid": "8370bc5e-b104-4795-9320-5d4dbc7aac54",
                "tags": []
            },
            "outputs": [],
            "execution_count": null
        },
        {
            "cell_type": "markdown",
            "source": [
                "# Power BI Activity Events\n",
                "\n",
                "Knowing who is taking what action on which item in your Power BI tenant can be critical in helping your organization fulfill its requirements, like meeting regulatory compliance and records management. With Power BI, you have two options to track user activity: The Power BI activity log and the unified audit log. These logs both contain a complete copy of the Power BI auditing data, but there are several key differences, as summarized in the following table.\n",
                "\n",
                "[Learn More](https://docs.microsoft.com/en-us/power-bi/admin/service-admin-auditing)\n",
                "\n",
                "[Operations Available in the audit and activity logs](https://docs.microsoft.com/en-us/power-bi/admin/service-admin-auditing#operations-available-in-the-audit-and-activity-logs)\n",
                "\n",
                "## Important\n",
                "\n",
                "Currently only 30 day period supported for Power BI activity log events with the Get-PowerBIActivityEvent cmdlet.\n",
                "\n",
                "[O365 Audit log retention policies](https://docs.microsoft.com/en-us/microsoft-365/compliance/audit-log-retention-policies?view=o365-worldwide)\n",
                "\n",
                "[Full Sample Notebook](https:\\github.com\\itsnotaboutthecell\\PowerBI-cmdlets\\blob\\master\\notebooks\\Export_Power_BI_Activity_Log.ipynb)"
            ],
            "metadata": {
                "azdata_cell_guid": "3a9cbf66-0506-4459-8224-9a69b0b91c47"
            }
        },
        {
            "cell_type": "code",
            "source": [
                "# Historical Events Offset ($offsetDays) Refer to your organizations default audit log retention policy for maximum number of days stored.\r\n",
                "$offsetDays = 1\r\n",
                "\r\n",
                "For ($i = 1; $i -le $offsetDays; $i+=1) { \r\n",
                "    $startEvent = ((Get-Date).AddDays(-$i).ToString(\"yyyy-MM-ddT00:00:00.000\"))\r\n",
                "    $endEvent = ((Get-Date).AddDays(-$i).ToString(\"yyyy-MM-ddT23:59:59.999\"))\r\n",
                "    \r\n",
                "    Write-Host \"Evaluating Activity Log: $($startEvent.Substring(0,10))\"\r\n",
                "    $pbiActivities = Get-PowerBIActivityEvent -StartDateTime $startEvent -EndDateTime $endEvent | ConvertFrom-Json\r\n",
                "\r\n",
                "    if ($pbiActivities.count -ne 0) {\r\n",
                "        $pbiActivities | Select-Object *, -First 5\r\n",
                "    }\r\n",
                "}"
            ],
            "metadata": {
                "azdata_cell_guid": "2a960e3c-c181-4d62-bc5d-b52adf05cb1b"
            },
            "outputs": [],
            "execution_count": null
        },
        {
            "cell_type": "markdown",
            "source": [
                "# Output\n",
                "\n",
                "Now that you've begun to query results, you'll ultimately want to output these into a readable format for Power BI or other systems to consume. Leveraging techniques such as piping an Export-CSV for your hash tables or Out-File for your JSONs is a greaty way to continue your journey in learning PowerShell thru the things you know today in Power BI.\n",
                "\n",
                "Export-CSV: Converts objects into a series of comma-separated value (CSV) strings and saves the strings to a file.\n",
                "\n",
                "Ex. ```Get-PowerBIWorkspaces -Scope Individual -All | Export-CSV -Path \"C:\\Power BI\\PBI_Workspaces.csv\" -NoTypeInformation```\n",
                "\n",
                "[Learn More: Export-CSV](https://docs.microsoft.com/en-us/powershell/module/Microsoft.PowerShell.Utility/Export-Csv?view=powershell-7)\n",
                "\n",
                "\n",
                "Out-File: Sends output to a file.\n",
                "\n",
                "Ex. ```Invoke-PowerBIRestMethod -URL \"https://api.powerbi.com/v1.0/myorg/groups/$($groupId)/datasets/$($datasetId)/refreshes\" -Method GET | Out-File -Path \"C:\\Power BI\\PBI_Refresh.json\"```\n",
                "\n",
                "[Learn More: Out-File](https://docs.microsoft.com/en-us/powershell/module/microsoft.powershell.utility/out-file?view=powershell-7)"
            ],
            "metadata": {
                "azdata_cell_guid": "25da6623-2e21-403f-bdf6-96d632d6eff3"
            }
        },
        {
            "cell_type": "markdown",
            "source": [
                "# Continue Your Journey\n",
                "\n",
                "[Power BI Dev Camp - Ted Pattison - Writing PowerShell Scripts for Power BI](https://www.youtube.com/watch?v=WaKvZgjTWmo)"
            ],
            "metadata": {
                "azdata_cell_guid": "3f6d399a-22df-4de7-b151-83ae50afff0e"
            }
        }
    ]
}