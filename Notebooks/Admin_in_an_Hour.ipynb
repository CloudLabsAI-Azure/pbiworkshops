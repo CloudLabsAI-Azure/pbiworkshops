{
 "cells": [
  {
   "cell_type": "markdown",
   "metadata": {},
   "source": [
    "# Admin in an Hour"
   ]
  },
  {
   "cell_type": "markdown",
   "metadata": {},
   "source": [
    "<img align=\"left\" width=\"100\" height=\"100\" src=\"https://raw.githubusercontent.com/microsoft/pbiworkshops/main/_Asset%20Library/powerbi.svg\">\n",
    "<img align=\"left\" width=\"100\" height=\"100\" src=\"https://raw.githubusercontent.com/microsoft/pbiworkshops/main/Admin%20in%20an%20Hour/Images/ps_black_128.svg\">"
   ]
  },
  {
   "cell_type": "markdown",
   "metadata": {},
   "source": [
    "## Table of Contents\n",
    "\n",
    "- <b>Jupyter Notebook Navigation</b>\n",
    "- <b>PowerShell Introduction</b>\n",
    "    - Hello, World\n",
    "        - Parameters\n",
    "        - Get-Help \n",
    "    - Variables\n",
    "        - Object Properties\n",
    "    - Iteration\n",
    "    - Noun-Verb\n",
    "- <b>PowerShell for Power BI</b>\n",
    "    - Install Microsoft Power BI modules\n",
    "    - Available Cmdlets\n",
    "- <b>Connect to Power BI service</b>\n",
    "    - Return a list of Power BI workspaces\n",
    "    - Scope\n",
    "    - Return a count of all Power BI workspaces\n",
    "    - Return a list of Power BI datasets in a workspace\n",
    "- <b>Power BI Artifacts</b>\n",
    "    - Return a list of Power BI datasets from multiple workspaces\n",
    "- <b>Hash Tables</b>\n",
    "- <b>REST API</b>\n",
    "- <b>Output</b>\n",
    "- <b>Continue Your Journey</b>"
   ]
  },
  {
   "cell_type": "markdown",
   "metadata": {},
   "source": [
    "# Jupyter Notebook Navigation\n",
    "\n",
    "Below are some important navigation items for getting started.\n",
    "- To move up or down the notebook you can use the standard directional keys ⬆⬇\n",
    "- The keyboard combination **Ctrl+Enter** allows you to:\n",
    "    - Run a cell which contains **Code**\n",
    "    - Exit edit mode in a **Markdown** cell\n",
    "\n",
    "[For a list of shortcuts](https://cheatography.com/weidadeyue/cheat-sheets/jupyter-notebook/)"
   ]
  },
  {
   "cell_type": "markdown",
   "metadata": {},
   "source": [
    "# PowerShell Introduction\n",
    "\n",
    "### Objectives: \n",
    "Write to the host, include parameters and return the documentation for the ```Write-Host``` command."
   ]
  },
  {
   "cell_type": "markdown",
   "metadata": {},
   "source": [
    "### Hello, World\n",
    "1. In the first cell, print the value \"Hello, World\" in the host by using the command:\n",
    "\n",
    "    ```Write-Host \"Hello, World\"```\n",
    "\n",
    "\n",
    "2. In the second cell, include the Background and Foreground color parameters from the above command.\n",
    "\n",
    "   ```Write-Host \"Hello, World\" -BackgroundColor DarkYellow -ForegroundColor White```\n",
    "    \n",
    "\n",
    "3. In the third cell, Utilize Get-Help to return the available parameters for the Write-Host command.\n",
    "\n",
    "    ```Get-Help Write-Host```"
   ]
  },
  {
   "cell_type": "code",
   "execution_count": null,
   "metadata": {
    "scrolled": true
   },
   "outputs": [],
   "source": []
  },
  {
   "cell_type": "code",
   "execution_count": null,
   "metadata": {},
   "outputs": [],
   "source": []
  },
  {
   "cell_type": "code",
   "execution_count": null,
   "metadata": {
    "scrolled": false
   },
   "outputs": [],
   "source": []
  },
  {
   "cell_type": "markdown",
   "metadata": {},
   "source": [
    "### Objectives:\n",
    "Store a variable, insert into an existing string and return the object's length property."
   ]
  },
  {
   "cell_type": "markdown",
   "metadata": {},
   "source": [
    "### Variables\n",
    "1. In the first cell below, store your favorite color in single or double quotes:\n",
    "\n",
    "    ```$myColor = \"<color>\"```\n",
    "    \n",
    "\n",
    "2. In the second cell below, write your favorite color to the host:\n",
    "\n",
    "    ```Write-Host \"My favorite color is: $($myColor)\"```\n",
    "       \n",
    "       \n",
    "3. In the third cell below, return the length of the variable ```$myColor```:\n",
    "\n",
    "    ```$myColor.length```"
   ]
  },
  {
   "cell_type": "code",
   "execution_count": null,
   "metadata": {},
   "outputs": [],
   "source": []
  },
  {
   "cell_type": "code",
   "execution_count": null,
   "metadata": {
    "scrolled": true
   },
   "outputs": [],
   "source": []
  },
  {
   "cell_type": "code",
   "execution_count": null,
   "metadata": {},
   "outputs": [],
   "source": []
  },
  {
   "cell_type": "markdown",
   "metadata": {},
   "source": [
    "### Objectives:\n",
    "Create and iterate thru a list of values."
   ]
  },
  {
   "cell_type": "markdown",
   "metadata": {},
   "source": [
    "## Iteration\n",
    "\n",
    "The Foreach statement (also known as a Foreach loop) is a language construct for stepping through (iterating) a series of values in a collection of items.\n",
    "\n",
    "1. In the first cell below, store the list of numbers in a variable:\n",
    "\n",
    "    ```$numbers = @(1,2,3)```\n",
    "\n",
    "\n",
    "2. In the second cell below, iterate thru the list using a foreach loop:\n",
    "\n",
    "    ```foreach ( $item in $numbers ) { $item * 10 }```\n",
    "    \n",
    "    \n",
    "Learn more [about_Foreach](https://docs.microsoft.com/en-us/powershell/module/microsoft.powershell.core/about/about_foreach?view=powershell-7)"
   ]
  },
  {
   "cell_type": "code",
   "execution_count": null,
   "metadata": {},
   "outputs": [],
   "source": []
  },
  {
   "cell_type": "code",
   "execution_count": null,
   "metadata": {},
   "outputs": [],
   "source": []
  },
  {
   "cell_type": "markdown",
   "metadata": {},
   "source": [
    "## Verb-Noun\n",
    "\n",
    "PowerShell uses a verb-noun pair for the names of cmdlets and for their derived .NET classes. The verb part of the name identifies the action that the cmdlet performs. The noun part of the name identifies the entity on which the action is performed. For example, the Get-Command cmdlet retrieves all the commands that are registered in PowerShell.\n",
    "\n",
    "Learn More [Approved Verbs](https://docs.microsoft.com/en-us/powershell/scripting/developer/cmdlet/approved-verbs-for-windows-powershell-commands?view=powershell-7)"
   ]
  },
  {
   "cell_type": "markdown",
   "metadata": {},
   "source": [
    "# PowerShell for Power BI"
   ]
  },
  {
   "cell_type": "markdown",
   "metadata": {},
   "source": [
    "### Objectives:\n",
    "Install the Power BI modules for both Power BI management and data gateways and use the get help and a wildcard to find all accompanying cmdlets."
   ]
  },
  {
   "cell_type": "markdown",
   "metadata": {},
   "source": [
    "# Install Microsoft Power BI modules\n",
    "The following cmdlets are available on PowerShell Gallery and can be installed in an elevated PowerShell session:\n",
    "- [Microsoft Power BI](https://docs.microsoft.com/en-us/powershell/power-bi/overview?view=powerbi-ps)\n",
    "- [Data Gateway](https://docs.microsoft.com/en-us/powershell/module/datagateway/?view=datagateway-ps)\n",
    "\n",
    "\n",
    "1. In the first cell below, install the Power BI management module using the following command:\n",
    "\n",
    "    ```Install-Module MicrosoftPowerBIMGMT```\n",
    "    \n",
    "\n",
    "2. In the second cell, install the Data Gateway module using the following command:\n",
    "\n",
    "    ```Install-Module DataGateway```"
   ]
  },
  {
   "cell_type": "code",
   "execution_count": null,
   "metadata": {
    "scrolled": true,
    "tags": []
   },
   "outputs": [],
   "source": []
  },
  {
   "cell_type": "code",
   "execution_count": null,
   "metadata": {},
   "outputs": [],
   "source": []
  },
  {
   "cell_type": "markdown",
   "metadata": {},
   "source": [
    "# Available Cmdlets\n",
    "\n",
    "Return the available cmdlets from either the MicrosoftPowerBIMGMT or DataGateway module, by leveraging wild card searches and sorting and table formatting.\n",
    "\n",
    "1. In the first cell below, search for all Power BI cmdlets using the following command:\n",
    "\n",
    "    ```Get-Help *PowerBI*```\n",
    "    \n",
    "\n",
    "2. Update the first cell, by piping Sort Name to sort the name column:\n",
    "\n",
    "    ```Get-Help *PowerBI* | Sort Name```\n",
    "    \n",
    "    \n",
    "3. Update the first cell, by piping table formatting to auto size the column width:\n",
    "\n",
    "    ```Get-Help *PowerBI* | Sort Name | Format-Table -AutoSize```\n",
    "    \n",
    "    \n",
    "3. In the second cell, return all DataGatway cmdlets, sort by name and format the table by auto sizing the columns:\n",
    "\n",
    "    ```Get-Help *DataGateway* | Sort Name | Format-Table -AutoSize```"
   ]
  },
  {
   "cell_type": "code",
   "execution_count": null,
   "metadata": {
    "scrolled": true,
    "tags": []
   },
   "outputs": [],
   "source": []
  },
  {
   "cell_type": "code",
   "execution_count": null,
   "metadata": {},
   "outputs": [],
   "source": []
  },
  {
   "cell_type": "markdown",
   "metadata": {},
   "source": [
    "### Objectives:\n",
    "Connect to the Power BI service with your user autenticated account and begin to query details about the various artifacts in your tenant."
   ]
  },
  {
   "cell_type": "markdown",
   "metadata": {},
   "source": [
    "# Connect to Power BI service\n",
    "\n",
    "Login with Azure Active Directory user authentication or Service Principal credentials.\n",
    "\n",
    "1. In the cell below, login with your user account for the Power BI service.\n",
    "\n",
    "    ```Connect-PowerBIServiceAccount```"
   ]
  },
  {
   "cell_type": "code",
   "execution_count": null,
   "metadata": {
    "tags": []
   },
   "outputs": [],
   "source": []
  },
  {
   "cell_type": "markdown",
   "metadata": {},
   "source": [
    "# Return a list of Power BI workspaces\n",
    "\n",
    "Return a list of the Power BI workspaces including the attributes Id, Name, IsReadOnly, IsOrphaned, IsOnDedicatedCapacity and CapacityId.\n",
    "\n",
    "1. In the cell below, return the first 5 workspaces, that you as an Individual user have access to:\n",
    "\n",
    "    ```Get-PowerBIWorkspace -First 5```"
   ]
  },
  {
   "cell_type": "code",
   "execution_count": null,
   "metadata": {
    "scrolled": true
   },
   "outputs": [],
   "source": []
  },
  {
   "cell_type": "markdown",
   "metadata": {},
   "source": [
    "# Scope\n",
    "\n",
    "Indicates the scope of the call.\n",
    "- -Scope Individual\n",
    "    - Ex: Returns only workspaces assigned to the caller.\n",
    "    - Default Value \n",
    "- -Scope Organization\n",
    "    - Ex: Returns all workspaces within a tenant (must be an administrator to initiate).\n",
    "\n",
    "\n",
    "1. In the cell below, create a variable and define the level of the scope you wish to use:\n",
    "\n",
    "    ```$scopeLevel = \"<Scope Level>\"```"
   ]
  },
  {
   "cell_type": "code",
   "execution_count": null,
   "metadata": {},
   "outputs": [],
   "source": []
  },
  {
   "cell_type": "markdown",
   "metadata": {},
   "source": [
    "# Return a count of all Power BI workspaces\n",
    "\n",
    "Return a count of all the Power BI workspaces within the defined scope.\n",
    "\n",
    "1. In the first cell below, count the total number of workspaces within your scope:\n",
    "\n",
    "    ```Get-PowerBIWorkspace -Scope $scopeLevel -All | Measure-Object```\n",
    "    \n",
    "\n",
    "2. In the second cell below, store all of the workspaces into a variable:\n",
    "\n",
    "    ```$pbiWorkspaces = Get-PowerBIWorkspace -Scope $scopeLevel -All```\n",
    " \n",
    "\n",
    "3. In the third cell below, return the count of all the workspaces from the variable:\n",
    "\n",
    "    ```$pbiWorkspaces.Count```\n",
    "\n",
    "\n",
    "4. In the foruth cell below, return the first item from the collection:\n",
    "\n",
    "    ```$pbiWorkspaces[0]```"
   ]
  },
  {
   "cell_type": "code",
   "execution_count": null,
   "metadata": {
    "scrolled": true
   },
   "outputs": [],
   "source": []
  },
  {
   "cell_type": "code",
   "execution_count": null,
   "metadata": {},
   "outputs": [],
   "source": []
  },
  {
   "cell_type": "code",
   "execution_count": null,
   "metadata": {
    "scrolled": true
   },
   "outputs": [],
   "source": []
  },
  {
   "cell_type": "code",
   "execution_count": null,
   "metadata": {},
   "outputs": [],
   "source": []
  },
  {
   "cell_type": "markdown",
   "metadata": {},
   "source": [
    "# Return a list of Power BI datasets in a workspace\n",
    "\n",
    "Return a listing of the Power BI datasets within a workspace.\n",
    "\n",
    "1. In the cell below, return the datasets contained within the first workspace from the above collection by using the Id property:\n",
    "\n",
    "    ```Get-PowerBIDataset -Scope $scopeLevel -WorkspaceId $pbiWorkspaces[0].Id```\n",
    "    \n",
    "    \n",
    "2. Update the cell below to get the datasets from the second workspace within the above collection:\n",
    "\n",
    "    ```Get-PowerBIDataset -Scope $scopeLevel -WorkspaceId $pbiWorkspaces[1].Id```"
   ]
  },
  {
   "cell_type": "code",
   "execution_count": null,
   "metadata": {
    "scrolled": true
   },
   "outputs": [],
   "source": []
  },
  {
   "cell_type": "markdown",
   "metadata": {},
   "source": [
    "# Power BI Artifacts\n",
    "\n",
    "![Power BI Diagram](https://raw.githubusercontent.com/microsoft/pbiworkshops/main/_Asset%20Library/workspace_diagram.png)\n",
    "\n",
    "\n",
    "Diagram courtesy of [Alex Dupler](http://github.com/savoy9) and his very impressive Visio skills."
   ]
  },
  {
   "cell_type": "markdown",
   "metadata": {},
   "source": [
    "### Objectives:\n",
    "Using the foreach loop, traverse multiple workspaces to collect details about the various artifacts stored in your workspace."
   ]
  },
  {
   "cell_type": "markdown",
   "metadata": {},
   "source": [
    "# Return a list of Power BI datasets from multiple workspaces\n",
    "\n",
    "In the below, we're going to leverage variables and foreach loops to traverse multiple workspaces for Power BI datasets.\n",
    "\n",
    "1. In the cell below, return the full documentation for the Get-PowerBIWorkspace cmdlet.\n",
    "\n",
    "    ```Get-Help Get-PowerBIWorkspace -Full```"
   ]
  },
  {
   "cell_type": "code",
   "execution_count": null,
   "metadata": {},
   "outputs": [],
   "source": []
  },
  {
   "cell_type": "markdown",
   "metadata": {},
   "source": [
    "2. In the cell below, create a variable and store the results of the first five workspaces:\n",
    "\n",
    "    ```$pbiWorkspaces = Get-PowerBIWorkspace -Scope $scopeLevel -First 5```"
   ]
  },
  {
   "cell_type": "code",
   "execution_count": null,
   "metadata": {},
   "outputs": [],
   "source": []
  },
  {
   "cell_type": "markdown",
   "metadata": {},
   "source": [
    "3. In the cell below, return the first item in the collection:\n",
    "\n",
    "    ```$pbiWorkspaces[0]```"
   ]
  },
  {
   "cell_type": "code",
   "execution_count": null,
   "metadata": {
    "scrolled": false
   },
   "outputs": [],
   "source": []
  },
  {
   "cell_type": "markdown",
   "metadata": {},
   "source": [
    "4. In the cell below, create a foreach loop and print the workspace's id property:\n",
    "\n",
    "\n",
    "<code>    foreach ($workspace in $pbiWorkspaces) { \n",
    "        $workspace.Id \n",
    "    }\n",
    "</code>"
   ]
  },
  {
   "cell_type": "code",
   "execution_count": null,
   "metadata": {
    "scrolled": true
   },
   "outputs": [],
   "source": []
  },
  {
   "cell_type": "markdown",
   "metadata": {},
   "source": [
    "5. In the cell below, edit the foreach loop to call the Get-PowerBIdataset cmdlet:\n",
    "\n",
    "<code>    foreach ($workspace in $pbiWorkspaces) {\n",
    "        Get-PowerBIDataset -Scope $scopeLevel -WorkspaceId $workspace.Id \n",
    "    }\n",
    "</code>"
   ]
  },
  {
   "cell_type": "code",
   "execution_count": null,
   "metadata": {
    "scrolled": true
   },
   "outputs": [],
   "source": []
  },
  {
   "cell_type": "markdown",
   "metadata": {},
   "source": [
    "### Objectives:\n",
    "Add the Workspace Id to the returned Power BI dataset's key-value pair."
   ]
  },
  {
   "cell_type": "markdown",
   "metadata": {},
   "source": [
    "# Hash Tables\n",
    "\n",
    "A hash table, also known as a dictionary or associative array, is a compact data structure that stores one or more key/value pairs.\n",
    "\n",
    "[Learn More](https://docs.microsoft.com/en-us/powershell/module/microsoft.powershell.core/about/about_hash_tables?view=powershell-7)"
   ]
  },
  {
   "cell_type": "markdown",
   "metadata": {},
   "source": [
    "1. In the cell below, add the initial attribute, WorkspaceId and the accompanying value to the returned dataset attributes:\n",
    "\n",
    "<code>    foreach ($workspace in $pbiWorkspaces) {\n",
    "        Get-PowerBIDataset -Scope $scopeLevel -WorkspaceId $workspace.Id\n",
    "            | select *, @{ Name=\"WorkspaceId\"; Expression={ $workspace.Id } }\n",
    "    }\n",
    "</code>"
   ]
  },
  {
   "cell_type": "code",
   "execution_count": null,
   "metadata": {
    "scrolled": true
   },
   "outputs": [],
   "source": []
  },
  {
   "cell_type": "markdown",
   "metadata": {},
   "source": [
    "# REST API\n",
    "\n",
    "Power BI REST API provides service endpoints for embedding, administration, and user resources.\n",
    "\n",
    "[Learn More](https://docs.microsoft.com/en-us/rest/api/power-bi/)"
   ]
  },
  {
   "cell_type": "markdown",
   "metadata": {},
   "source": [
    "1. In the first cell below, search for any Power BI cmdlets that allow you to query a dataset's refresh history:\n",
    "\n",
    "    ```Get-Help *PowerBI* | Sort Name | Format-Table -AutoSize```"
   ]
  },
  {
   "cell_type": "code",
   "execution_count": null,
   "metadata": {},
   "outputs": [],
   "source": []
  },
  {
   "cell_type": "markdown",
   "metadata": {},
   "source": [
    "Review the available REST API endpoints for the datasets to determine if the refresh history is queryable.\n",
    "\n",
    "[REST API - Datasets](https://docs.microsoft.com/en-us/rest/api/power-bi/datasets)\n",
    "\n",
    "Review the dataset refresh history request to obtain details for a dataset stored in a group workspace:\n",
    "\n",
    "```GET https://api.powerbi.com/v1.0/myorg/groups/{groupId}/datasets/{datasetId}/refreshes```\n",
    "\n",
    "[Learn More: Datasets - Get Refresh History In Group](https://docs.microsoft.com/en-us/rest/api/power-bi/datasets/getrefreshhistoryingroup)\n",
    "\n",
    "2. In the cell below, return documentation for the Invoke-PowerBIRestMethod cmdlet:\n",
    "\n",
    "    ```Get-Help Invoke-PowerBIRestMethod```"
   ]
  },
  {
   "cell_type": "code",
   "execution_count": null,
   "metadata": {},
   "outputs": [],
   "source": []
  },
  {
   "cell_type": "markdown",
   "metadata": {},
   "source": [
    "3. In the cell below, return the dataset and workspace attributes once again by running the below code:"
   ]
  },
  {
   "cell_type": "code",
   "execution_count": null,
   "metadata": {
    "scrolled": true
   },
   "outputs": [],
   "source": [
    "foreach ($workspace in $pbiWorkspaces) {\n",
    "    Get-PowerBIDataset -Scope $scopeLevel -WorkspaceId $workspace.Id\n",
    "    | select *, @{ Name=\"WorkspaceId\"; Expression={ $workspace.Id } }\n",
    "}"
   ]
  },
  {
   "cell_type": "markdown",
   "metadata": {},
   "source": [
    "4. In the cell below, use the Invoke-PowerBIRestMethod cmdlet to return a datasets refresh history:\n",
    "\n",
    "    ```$groupId = \"WorkspaceId\"```\n",
    "\n",
    "    ```$datasetId = \"Id\"```\n",
    "\n",
    "    ```Invoke-PowerBIRestMethod -URL \"https://api.powerbi.com/v1.0/myorg/groups/$($groupId)/datasets/$($datasetId)/refreshes\" -Method GET```"
   ]
  },
  {
   "cell_type": "code",
   "execution_count": null,
   "metadata": {
    "scrolled": true
   },
   "outputs": [],
   "source": []
  },
  {
   "cell_type": "markdown",
   "metadata": {},
   "source": [
    "# Output\n",
    "\n",
    "Now that you've begun to query results, you'll ultimately want to output these into a readable format for Power BI or other systems to consume. Leveraging techniques such as piping an Export-CSV for your hash tables or Out-File for your JSONs is a greaty way to continue your journey in learning PowerShell thru the things you know today in Power BI.\n",
    "\n",
    "Export-CSV: Converts objects into a series of comma-separated value (CSV) strings and saves the strings to a file.\n",
    "\n",
    "Ex. ```Get-PowerBIWorkspaces -Scope Individual -All | Export-CSV -Path \"C:\\Power BI\\PBI_Workspaces.csv\" -NoTypeInformation```\n",
    "\n",
    "[Learn More: Export-CSV](https://docs.microsoft.com/en-us/powershell/module/Microsoft.PowerShell.Utility/Export-Csv?view=powershell-7)\n",
    "\n",
    "\n",
    "Out-File: Sends output to a file.\n",
    "\n",
    "Ex. ```Invoke-PowerBIRestMethod -URL \"https://api.powerbi.com/v1.0/myorg/groups/$($groupId)/datasets/$($datasetId)/refreshes\" -Method GET | Out-File -Path \"C:\\Power BI\\PBI_Refresh.json\"```\n",
    "\n",
    "[Learn More: Out-File](https://docs.microsoft.com/en-us/powershell/module/microsoft.powershell.utility/out-file?view=powershell-7)\n",
    "\n"
   ]
  },
  {
   "cell_type": "markdown",
   "metadata": {},
   "source": [
    "# Continue Your Journey\n",
    "\n",
    "[Power BI Dev Camp - Ted Pattison - Writing PowerShell Scripts for Power BI](https://aka.ms/PBIWebinar09242020)\n",
    "\n",
    "[Use Powershell Cmdlets for Power BI Administration - DeNisha Malone](https://www.youtube.com/watch?v=8Yv-o4yJ0uk)"
   ]
  }
 ],
 "metadata": {
  "kernelspec": {
   "display_name": ".NET (PowerShell)",
   "language": "PowerShell",
   "name": ".net-powershell"
  },
  "language_info": {
   "file_extension": ".ps1",
   "mimetype": "text/x-powershell",
   "name": "PowerShell",
   "pygments_lexer": "powershell",
   "version": "7.0"
  }
 },
 "nbformat": 4,
 "nbformat_minor": 4
}
