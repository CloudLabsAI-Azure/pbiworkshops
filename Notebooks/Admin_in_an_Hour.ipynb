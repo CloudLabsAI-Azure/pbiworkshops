{
  "cells": [
    {
      "cell_type": "markdown",
      "metadata": {},
      "source": [
        "# Admin in an Hour"
      ]
    },
    {
      "cell_type": "markdown",
      "metadata": {},
      "source": [
        "<img align=\"left\" width=\"100\" height=\"100\" src=\"https://raw.githubusercontent.com/microsoft/pbiworkshops/main/_Asset%20Library/powerbi.svg\">\n",
        "<img align=\"left\" width=\"100\" height=\"100\" src=\"https://raw.githubusercontent.com/microsoft/pbiworkshops/main/Admin%20in%20an%20Hour/Images/ps_black_128.svg\">"
      ]
    },
    {
      "cell_type": "markdown",
      "metadata": {},
      "source": [
        "## Table of Contents\n",
        "- **Jupyter Notebook Navigation**\n",
        "- **PowerShell Introduction**\n",
        "    - Hello, World\n",
        "        - Parameters\n",
        "        - Get-Help\n",
        "    - Variables\n",
        "        - Object Properties\n",
        "    - Iteration\n",
        "    - Noun-Verb\n",
        "- **PowerShell for Power BI**\n",
        "    - Install Microsoft Power BI modules\n",
        "    - Available Cmdlets\n",
        "- **Connect to Power BI service**\n",
        "    - Service Principal\n",
        "    - Return a list of Power BI workspaces\n",
        "    - Scope\n",
        "    - Return a count of all Power BI workspaces\n",
        "    - Workspace Administration\n",
        "- **Power BI Artifacts**\n",
        "    - Power BI REST API\n",
        "    - Admin - GetGroupsAsAdmin\n",
        "- **Power BI Licensing**\n",
        "- **Power BI Activity Events**\n",
        "- **Output**\n",
        "- **Continue Your Journey**"
      ]
    },
    {
      "cell_type": "markdown",
      "metadata": {},
      "source": [
        "# Jupyter Notebook Navigation\n",
        "\n",
        "Below are some important navigation items for getting started.\n",
        "- To move up or down the notebook you can use the standard directional keys ⬆⬇\n",
        "- The keyboard combination **Ctrl+Enter** allows you to:\n",
        "    - Run a cell which contains **Code**\n",
        "    - Exit edit mode in a **Markdown** cell\n",
        "\n",
        "[For a list of shortcuts](https://cheatography.com/weidadeyue/cheat-sheets/jupyter-notebook/)"
      ]
    },
    {
      "cell_type": "markdown",
      "metadata": {},
      "source": [
        "# PowerShell Introduction\n",
        "\n",
        "### Objectives: \n",
        "Write to the host, include parameters and return the documentation for the ```Write-Host``` command."
      ]
    },
    {
      "cell_type": "markdown",
      "metadata": {},
      "source": [
        "### Hello, World\n",
        "\n",
        "1. In the first cell, print the value \"Hello, World\" in the host by using the command:\n",
        "    \n",
        "    ```\n",
        "    Write-Host \"Hello, World\"\n",
        "    ```\n",
        "    \n",
        "\n",
        "2. In the second cell, include the Background and Foreground color parameters from the above command.\n",
        "    \n",
        "    ```\n",
        "    Write-Host \"Hello, World\" -BackgroundColor DarkYellow -ForegroundColor White\n",
        "    ```\n",
        "    \n",
        "\n",
        "3. In the third cell, Utilize Get-Help to return the available parameters for the Write-Host command.\n",
        "    \n",
        "    ```\n",
        "    Get-Help Write-Host\n",
        "    ```"
      ]
    },
    {
      "cell_type": "code",
      "execution_count": 1,
      "metadata": {
        "dotnet_interactive": {
          "language": "pwsh"
        }
      },
      "source": [
        ""
      ],
      "outputs": []
    },
    {
      "cell_type": "code",
      "execution_count": 1,
      "metadata": {
        "dotnet_interactive": {
          "language": "pwsh"
        }
      },
      "source": [
        ""
      ],
      "outputs": []
    },
    {
      "cell_type": "code",
      "execution_count": 1,
      "metadata": {
        "dotnet_interactive": {
          "language": "pwsh"
        }
      },
      "source": [
        ""
      ],
      "outputs": []
    },
    {
      "cell_type": "markdown",
      "metadata": {},
      "source": [
        "### Objectives:\n",
        "Store a variable, insert into an existing string and return the object's length property."
      ]
    },
    {
      "cell_type": "markdown",
      "metadata": {},
      "source": [
        "### Variables\n",
        "1. In the first cell below, store your favorite color in single or double quotes:\n",
        "\n",
        "    ```\n",
        "    $myColor = \"<color>\"\n",
        "    ```\n",
        "    \n",
        "\n",
        "2. In the second cell below, write your favorite color to the host:\n",
        "\n",
        "    ```\n",
        "    Write-Host \"My favorite color is: $($myColor)\"\n",
        "    ```\n",
        "       \n",
        "       \n",
        "3. In the third cell below, return the length of the variable ```$myColor```:\n",
        "\n",
        "    ```\n",
        "    $myColor.length\n",
        "    ```"
      ]
    },
    {
      "cell_type": "code",
      "execution_count": 1,
      "metadata": {
        "dotnet_interactive": {
          "language": "pwsh"
        }
      },
      "source": [
        ""
      ],
      "outputs": []
    },
    {
      "cell_type": "code",
      "execution_count": 1,
      "metadata": {
        "dotnet_interactive": {
          "language": "pwsh"
        }
      },
      "source": [
        ""
      ],
      "outputs": []
    },
    {
      "cell_type": "code",
      "execution_count": 1,
      "metadata": {
        "dotnet_interactive": {
          "language": "pwsh"
        }
      },
      "source": [
        ""
      ],
      "outputs": []
    },
    {
      "cell_type": "markdown",
      "metadata": {},
      "source": [
        "### Objectives:\n",
        "Create and iterate thru a list of values."
      ]
    },
    {
      "cell_type": "markdown",
      "metadata": {},
      "source": [
        "## Iteration\n",
        "\n",
        "The Foreach statement (also known as a Foreach loop) is a language construct for stepping through (iterating) a series of values in a collection of items.\n",
        "\n",
        "1. In the first cell below, store the list of numbers in a variable:\n",
        "\n",
        "    ```\n",
        "    $numbers = @(1,2,3)\n",
        "    ```\n",
        "\n",
        "\n",
        "2. In the second cell below, iterate thru the list using a foreach loop:\n",
        "\n",
        "    ```\n",
        "    foreach ( $item in $numbers ) { $item * 10 }\n",
        "    ```\n",
        "    \n",
        "    \n",
        "Learn more [about_Foreach](https://docs.microsoft.com/en-us/powershell/module/microsoft.powershell.core/about/about_foreach?view=powershell-7)"
      ]
    },
    {
      "cell_type": "code",
      "execution_count": 1,
      "metadata": {
        "dotnet_interactive": {
          "language": "pwsh"
        }
      },
      "source": [
        ""
      ],
      "outputs": []
    },
    {
      "cell_type": "code",
      "execution_count": 1,
      "metadata": {
        "dotnet_interactive": {
          "language": "pwsh"
        }
      },
      "source": [
        ""
      ],
      "outputs": []
    },
    {
      "cell_type": "markdown",
      "metadata": {},
      "source": [
        "## Verb-Noun\n",
        "\n",
        "PowerShell uses a verb-noun pair for the names of cmdlets and for their derived .NET classes. The verb part of the name identifies the action that the cmdlet performs. The noun part of the name identifies the entity on which the action is performed. For example, the Get-Command cmdlet retrieves all the commands that are registered in PowerShell.\n",
        "\n",
        "Learn More [Approved Verbs](https://docs.microsoft.com/en-us/powershell/scripting/developer/cmdlet/approved-verbs-for-windows-powershell-commands?view=powershell-7)"
      ]
    },
    {
      "cell_type": "markdown",
      "metadata": {},
      "source": [
        "# PowerShell for Power BI"
      ]
    },
    {
      "cell_type": "markdown",
      "metadata": {},
      "source": [
        "### Objectives:\n",
        "Install the Power BI modules for both Power BI management and data gateways and use the get help and a wildcard to find all accompanying cmdlets."
      ]
    },
    {
      "cell_type": "markdown",
      "metadata": {},
      "source": [
        "# Install Microsoft Power BI modules\n",
        "\n",
        "The following cmdlets are available on PowerShell Gallery and can be installed in an elevated PowerShell session:\n",
        "\n",
        "- [Microsoft Power BI](https://docs.microsoft.com/en-us/powershell/power-bi/overview?view=powerbi-ps)\n",
        "- [Data Gateway](https://docs.microsoft.com/en-us/powershell/module/datagateway/?view=datagateway-ps)\n",
        "\n",
        "For the sake of the virtual environment, we will add the -Force parameters to force the installation and avoid user prompts.\n",
        "\n",
        "1. In the first cell below, install the Power BI management module using the following command:\n",
        "    \n",
        "    ```\n",
        "    Install-Module MicrosoftPowerBIMGMT -Force -Verbose\n",
        "    ```\n",
        "    \n",
        "\n",
        "2. In the second cell, install the Data Gateway module using the following command:\n",
        "    \n",
        "    ```\n",
        "    Install-Module DataGateway -Force -Verbose\n",
        "    ```"
      ]
    },
    {
      "cell_type": "code",
      "execution_count": 1,
      "metadata": {
        "dotnet_interactive": {
          "language": "pwsh"
        }
      },
      "source": [
        ""
      ],
      "outputs": []
    },
    {
      "cell_type": "code",
      "execution_count": 1,
      "metadata": {
        "dotnet_interactive": {
          "language": "pwsh"
        }
      },
      "source": [
        ""
      ],
      "outputs": []
    },
    {
      "cell_type": "markdown",
      "metadata": {},
      "source": [
        "# Available Cmdlets\n",
        "\n",
        "Return the available cmdlets from either the MicrosoftPowerBIMGMT or DataGateway module, by leveraging wild card searches and sorting and table formatting.\n",
        "\n",
        "1. In the first cell below, search for all Power BI cmdlets using the following command:\n",
        "\n",
        "    ```\n",
        "    Get-Help *PowerBI*\n",
        "    ```\n",
        "    \n",
        "\n",
        "2. Update the first cell, by piping Sort Name to sort the name column:\n",
        "\n",
        "    ```\n",
        "    Get-Help *PowerBI* | Sort-Object Name\n",
        "    ```\n",
        "    \n",
        "    \n",
        "3. Update the first cell, by piping table formatting to auto size the column width:\n",
        "\n",
        "    ```\n",
        "    Get-Help *PowerBI* | Sort-Object Name | Format-Table -AutoSize\n",
        "    ```\n",
        "    \n",
        "    \n",
        "3. In the second cell, return all DataGatway cmdlets, sort by name and format the table by auto sizing the columns:\n",
        "\n",
        "    ```\n",
        "    Get-Help *DataGateway* | Sort-Object Name | Format-Table -AutoSize\n",
        "    ```"
      ]
    },
    {
      "cell_type": "code",
      "execution_count": 1,
      "metadata": {
        "dotnet_interactive": {
          "language": "pwsh"
        }
      },
      "source": [
        ""
      ],
      "outputs": []
    },
    {
      "cell_type": "code",
      "execution_count": 1,
      "metadata": {
        "dotnet_interactive": {
          "language": "pwsh"
        }
      },
      "source": [
        ""
      ],
      "outputs": []
    },
    {
      "cell_type": "markdown",
      "metadata": {},
      "source": [
        "### Objectives:\n",
        "Connect to the Power BI service with your user autenticated account and begin to query details about the various artifacts in your tenant."
      ]
    },
    {
      "cell_type": "markdown",
      "metadata": {},
      "source": [
        "# Connect to Power BI service\n",
        "\n",
        "Login with Azure Active Directory user authentication or Service Principal credentials.\n",
        "\n",
        "1. In the cell below, login with your user account for the Power BI service.\n",
        "\n",
        "    ```\n",
        "    Connect-PowerBIServiceAccount\n",
        "    ```"
      ]
    },
    {
      "cell_type": "code",
      "execution_count": 1,
      "metadata": {
        "dotnet_interactive": {
          "language": "pwsh"
        }
      },
      "source": [
        ""
      ],
      "outputs": []
    },
    {
      "cell_type": "markdown",
      "metadata": {},
      "source": [
        "## Service Principal Authentication\n",
        "\n",
        "Service principal is an authentication method that can be used to let an Azure Active Directory (Azure AD) application access Power BI service content and APIs. When you create an Azure AD app, a service principal object is created. The service principal object, also known simply as the service principal, allows Azure AD to authenticate your app. Once authenticated, the app can access Azure AD tenant resources.\n",
        "\n",
        "❗ **Make sure there are no Power BI admin-consent-required permissions set on this application in Azure's App Registration.** ❗ \n",
        "\n",
        "The Power BI service will handle the access of your application through the \"Allow service principals to use read-only Power BI admin APIs\" tenant setting.\n",
        "\n",
        "[Read Only Admin APIs](https://docs.microsoft.com/en-us/power-bi/admin/read-only-apis-service-principal-authentication)"
      ]
    },
    {
      "cell_type": "code",
      "execution_count": 1,
      "metadata": {
        "dotnet_interactive": {
          "language": "pwsh"
        }
      },
      "source": [
        "# Parameters\n",
        "$TenantId  = \"\"\n",
        "$AppId     = \"\"  # Service Principal ID\n",
        "$Secret    = \"\"  # Secret from Service Principal\n",
        "\n",
        "# Connect the Service Principal\n",
        "$password = ConvertTo-SecureString $Secret -AsPlainText -Force\n",
        "$Creds = New-Object PSCredential $AppId, $password\n",
        "Connect-PowerBIServiceAccount -ServicePrincipal -Credential $Creds -Tenant $TenantId"
      ],
      "outputs": []
    },
    {
      "cell_type": "markdown",
      "metadata": {},
      "source": [
        "# Return a list of Power BI workspaces\n",
        "\n",
        "Return a list of the Power BI workspaces including the attributes Id, Name, IsReadOnly, IsOrphaned, IsOnDedicatedCapacity and CapacityId.\n",
        "\n",
        "1. In the cell below, return the first 5 workspaces, that you as an Individual user have access to:\n",
        "\n",
        "    ```\n",
        "    Get-PowerBIWorkspace -First 5\n",
        "    ```"
      ]
    },
    {
      "cell_type": "code",
      "execution_count": 1,
      "metadata": {
        "dotnet_interactive": {
          "language": "pwsh"
        }
      },
      "source": [
        ""
      ],
      "outputs": []
    },
    {
      "cell_type": "markdown",
      "metadata": {},
      "source": [
        "# Scope\n",
        "\n",
        "Indicates the scope of the call.\n",
        "- -Scope Individual\n",
        "    - Ex: Returns only workspaces assigned to the caller.\n",
        "    - Default Value \n",
        "- -Scope Organization\n",
        "    - Ex: Returns all workspaces within a tenant (must be an administrator to initiate).\n",
        "\n",
        "\n",
        "1. In the cell below, create a variable and define the level of the scope you wish to use:\n",
        "\n",
        "    ```\n",
        "    $scopeLevel = \"<Scope Level>\"\n",
        "    ```"
      ]
    },
    {
      "cell_type": "code",
      "execution_count": 1,
      "metadata": {
        "dotnet_interactive": {
          "language": "pwsh"
        }
      },
      "source": [
        ""
      ],
      "outputs": []
    },
    {
      "cell_type": "markdown",
      "metadata": {},
      "source": [
        "# Return a count of all Power BI workspaces\n",
        "\n",
        "Return a count of all the Power BI workspaces within the defined scope.\n",
        "\n",
        "1. In the first cell below, count the total number of workspaces within your scope:\n",
        "\n",
        "    ```\n",
        "    Get-PowerBIWorkspace -Scope $scopeLevel -All | Measure-Object\n",
        "    ```\n",
        "    \n",
        "\n",
        "2. In the second cell below, store all of the workspaces into a variable:\n",
        "\n",
        "    ```\n",
        "    $pbiWorkspaces = Get-PowerBIWorkspace -Scope $scopeLevel -All\n",
        "    ```\n",
        " \n",
        "\n",
        "3. In the third cell below, return the count of all the workspaces from the variable:\n",
        "\n",
        "    ```\n",
        "    $pbiWorkspaces.Count\n",
        "    ```\n",
        "\n",
        "\n",
        "4. In the foruth cell below, return the first item from the collection:\n",
        "\n",
        "    ```\n",
        "    $pbiWorkspaces[0]\n",
        "    ```"
      ]
    },
    {
      "cell_type": "code",
      "execution_count": 1,
      "metadata": {
        "dotnet_interactive": {
          "language": "pwsh"
        }
      },
      "source": [
        ""
      ],
      "outputs": []
    },
    {
      "cell_type": "code",
      "execution_count": 1,
      "metadata": {
        "dotnet_interactive": {
          "language": "pwsh"
        }
      },
      "source": [
        ""
      ],
      "outputs": []
    },
    {
      "cell_type": "code",
      "execution_count": 1,
      "metadata": {
        "dotnet_interactive": {
          "language": "pwsh"
        }
      },
      "source": [
        ""
      ],
      "outputs": []
    },
    {
      "cell_type": "code",
      "execution_count": 1,
      "metadata": {
        "dotnet_interactive": {
          "language": "pwsh"
        }
      },
      "source": [
        ""
      ],
      "outputs": []
    },
    {
      "cell_type": "markdown",
      "metadata": {},
      "source": [
        "# Workspace Administration\n",
        "\n",
        "Create a new workspace, add a user and **optional** migrate the workspace to a premium capacity and then to a shared.\n",
        "\n",
        "[New workspace](https://docs.microsoft.com/en-us/powershell/module/microsoftpowerbimgmt.workspaces/new-powerbiworkspace?view=powerbi-ps)\n",
        "\n",
        "[Add a user](https://docs.microsoft.com/en-us/powershell/module/microsoftpowerbimgmt.workspaces/add-powerbiworkspaceuser?view=powerbi-ps)\n",
        "\n",
        "[Access Rights](https://docs.microsoft.com/en-us/power-bi/collaborate-share/service-new-workspaces#roles-in-the-new-workspaces)\n",
        "\n",
        "[Set workspace](https://docs.microsoft.com/en-us/powershell/module/microsoftpowerbimgmt.workspaces/set-powerbiworkspace?view=powerbi-ps)"
      ]
    },
    {
      "cell_type": "code",
      "execution_count": 1,
      "metadata": {
        "dotnet_interactive": {
          "language": "pwsh"
        }
      },
      "source": [
        ""
      ],
      "outputs": []
    },
    {
      "cell_type": "code",
      "execution_count": 1,
      "metadata": {
        "dotnet_interactive": {
          "language": "pwsh"
        }
      },
      "source": [
        ""
      ],
      "outputs": []
    },
    {
      "cell_type": "code",
      "execution_count": 1,
      "metadata": {
        "dotnet_interactive": {
          "language": "pwsh"
        }
      },
      "source": [
        ""
      ],
      "outputs": []
    },
    {
      "cell_type": "markdown",
      "metadata": {},
      "source": [
        "# Power BI REST API\n",
        "\n",
        "Provides service endpoints for administration, user resources and embedding.\n",
        "\n",
        "[Learn More](https://docs.microsoft.com/en-us/rest/api/power-bi/)"
      ]
    },
    {
      "cell_type": "markdown",
      "metadata": {},
      "source": [
        "1. In the first cell below, search for any Power BI cmdlets that allow you to invoke the Power BI REST API:\n",
        "    \n",
        "    ```\n",
        "    Get-Help *PowerBI* | Sort-Object Name | Format-Table -AutoSize\n",
        "    ```\n",
        "    \n",
        "2. In the second cell below, return the full documentation for the appropriate cmdlet:\n",
        "    \n",
        "    ```\n",
        "    Get-Help Invoke-PowerBIRestMethod -Full\n",
        "    ```"
      ]
    },
    {
      "cell_type": "code",
      "execution_count": 1,
      "metadata": {
        "dotnet_interactive": {
          "language": "pwsh"
        }
      },
      "source": [
        ""
      ],
      "outputs": []
    },
    {
      "cell_type": "code",
      "execution_count": 1,
      "metadata": {
        "dotnet_interactive": {
          "language": "pwsh"
        }
      },
      "source": [
        ""
      ],
      "outputs": []
    },
    {
      "cell_type": "markdown",
      "metadata": {},
      "source": [
        "# Admin - Groups GetGroupsAsAdmin\n",
        "\n",
        "Returns a list of workspaces for the organization and the underlying artifacts.\n",
        "\n",
        "- Dataflows\n",
        "- Datasets\n",
        "- Reports\n",
        "- Dashboards\n",
        "- Workbooks\n",
        "- Users\n",
        "\n",
        "This API allows 200 requests per hour at maximum.\n",
        "\n",
        "**Note:** The user must have administrator rights (such as Office 365 Global Administrator or Power BI Service Administrator) to call this API or authenticate via service principal.\u00A0\n",
        "\n",
        "Learn More: [https://docs.microsoft.com/en-us/rest/api/power-bi/admin/groups\\_getgroupsasadmin](https://docs.microsoft.com/en-us/rest/api/power-bi/admin/groups_getgroupsasadmins)  \n",
        "\n",
        "1. In the cell below, using the Invoke-PowerBIRestMethod complete the GetGroupsAsAdmin:\n",
        "    \n",
        "    ```\n",
        "    Invoke-PowerBIRestMethod\n",
        "    ```"
      ]
    },
    {
      "cell_type": "code",
      "execution_count": 1,
      "metadata": {
        "dotnet_interactive": {
          "language": "pwsh"
        }
      },
      "source": [
        "$wsCount = 5\n",
        "$url = \"https://api.powerbi.com/v1.0/myorg/admin/groups?%24top=$($wsCount)&%24expand=dataflows,datasets,reports,dashboards,workbooks,users\"\n",
        "\n",
        ""
      ],
      "outputs": []
    },
    {
      "cell_type": "markdown",
      "metadata": {},
      "source": [
        "# Power BI Licensing\n",
        "\n",
        "Official Docs: [https://docs.microsoft.com/en-us/power-bi/admin/service-admin-licensing-organization#license-types-and-capabilities](https://docs.microsoft.com/en-us/power-bi/admin/service-admin-licensing-organization#license-types-and-capabilities)\n",
        "\n",
        "- Power\\_BI\\_Pro = Power BI Pro\n",
        "- Power\\_BI\\_Standard = Power BI (free)\n",
        "\n",
        "[Full Sample](https://github.com/itsnotaboutthecell/PowerBI-cmdlets/blob/master/notebooks/Power_BI_User_Licenses.ps1)"
      ]
    },
    {
      "cell_type": "code",
      "execution_count": 1,
      "metadata": {
        "dotnet_interactive": {
          "language": "pwsh"
        }
      },
      "source": [
        "$m = \"MSOnline\"\n",
        "\n",
        "try {Import-Module $m -ErrorAction Stop -Force} \n",
        "catch {Install-Module -Name $m -Scope CurrentUser -Force} \n",
        "finally {Import-Module $m -Force}\n",
        "\n",
        "Connect-MsolService\n",
        "\n",
        "$licenseType = \"Power_BI_Pro\", \"Power_BI_Standard\"\n",
        "\n",
        "$allUsers = Get-MsolUser -All | Where-Object {$_.isLicensed -eq \"True\" }\n",
        "\n",
        "foreach ($license in $licenseType) {\n",
        "\n",
        "    $licenses = $allUsers | Where-Object {($_.licenses).AccountSkuId -match ($license)}\n",
        "\n",
        "    Write-Host \"Current License: $($license)\"\n",
        "    $licenses\n",
        "\n",
        "}"
      ],
      "outputs": []
    },
    {
      "cell_type": "markdown",
      "metadata": {},
      "source": [
        "# Power BI Activity Events\n",
        "\n",
        "Knowing who is taking what action on which item in your Power BI tenant can be critical in helping your organization fulfill its requirements, like meeting regulatory compliance and records management. With Power BI, you have two options to track user activity: The Power BI activity log and the unified audit log. These logs both contain a complete copy of the Power BI auditing data, but there are several key differences, as summarized in the following table.\n",
        "\n",
        "[Learn More](https://docs.microsoft.com/en-us/power-bi/admin/service-admin-auditing)\n",
        "\n",
        "[Operations Available in the audit and activity logs](https://docs.microsoft.com/en-us/power-bi/admin/service-admin-auditing#operations-available-in-the-audit-and-activity-logs)\n",
        "\n",
        "## Important\n",
        "\n",
        "Currently only 30 day period supported for Power BI activity log events with the Get-PowerBIActivityEvent cmdlet.\n",
        "\n",
        "[O365 Audit log retention policies](https://docs.microsoft.com/en-us/microsoft-365/compliance/audit-log-retention-policies?view=o365-worldwide)\n",
        "\n",
        "[Full Sample Notebook](https:\\github.com\\itsnotaboutthecell\\PowerBI-cmdlets\\blob\\master\\notebooks\\Export_Power_BI_Activity_Log.ipynb)"
      ]
    },
    {
      "cell_type": "code",
      "execution_count": 1,
      "metadata": {
        "dotnet_interactive": {
          "language": "pwsh"
        }
      },
      "source": [
        "# Historical Events Offset ($offsetDays) Refer to your organizations default audit log retention policy for maximum number of days stored.\n",
        "$offsetDays = 1\n",
        "\n",
        "For ($i = 1; $i -le $offsetDays; $i+=1) { \n",
        "    $startEvent = ((Get-Date).AddDays(-$i).ToString(\"yyyy-MM-ddT00:00:00.000\"))\n",
        "    $endEvent = ((Get-Date).AddDays(-$i).ToString(\"yyyy-MM-ddT23:59:59.999\"))\n",
        "    \n",
        "    Write-Host \"Evaluating Activity Log: $($startEvent.Substring(0,10))\"\n",
        "    $pbiActivities = Get-PowerBIActivityEvent -StartDateTime $startEvent -EndDateTime $endEvent | ConvertFrom-Json\n",
        "\n",
        "    if ($pbiActivities.count -ne 0) {\n",
        "        $pbiActivities | Select-Object *, -First 5\n",
        "    }\n",
        "}"
      ],
      "outputs": []
    },
    {
      "cell_type": "markdown",
      "metadata": {},
      "source": [
        "# Output\n",
        "\n",
        "Now that you've begun to query results, you'll ultimately want to output these into a readable format for Power BI or other systems to consume. Leveraging techniques such as piping an Export-CSV for your hash tables or Out-File for your JSONs is a greaty way to continue your journey in learning PowerShell thru the things you know today in Power BI.\n",
        "\n",
        "Export-CSV: Converts objects into a series of comma-separated value (CSV) strings and saves the strings to a file.\n",
        "\n",
        "Ex. ```Get-PowerBIWorkspaces -Scope Individual -All | Export-CSV -Path \"C:\\Power BI\\PBI_Workspaces.csv\" -NoTypeInformation```\n",
        "\n",
        "[Learn More: Export-CSV](https://docs.microsoft.com/en-us/powershell/module/Microsoft.PowerShell.Utility/Export-Csv?view=powershell-7)\n",
        "\n",
        "\n",
        "Out-File: Sends output to a file.\n",
        "\n",
        "Ex. ```Invoke-PowerBIRestMethod -URL \"https://api.powerbi.com/v1.0/myorg/groups/$($groupId)/datasets/$($datasetId)/refreshes\" -Method GET | Out-File -Path \"C:\\Power BI\\PBI_Refresh.json\"```\n",
        "\n",
        "[Learn More: Out-File](https://docs.microsoft.com/en-us/powershell/module/microsoft.powershell.utility/out-file?view=powershell-7)"
      ]
    },
    {
      "cell_type": "markdown",
      "metadata": {},
      "source": [
        "# Continue Your Journey\n",
        "\n",
        "[Power BI Dev Camp - Ted Pattison - Writing PowerShell Scripts for Power BI](https://www.youtube.com/watch?v=WaKvZgjTWmo)"
      ]
    }
  ],
  "metadata": {
    "kernelspec": {
      "display_name": ".NET (C#)",
      "language": "C#",
      "name": ".net-csharp"
    },
    "language_info": {
      "file_extension": ".cs",
      "mimetype": "text/x-csharp",
      "name": "C#",
      "pygments_lexer": "csharp",
      "version": "8.0"
    }
  },
  "nbformat": 4,
  "nbformat_minor": 4
}