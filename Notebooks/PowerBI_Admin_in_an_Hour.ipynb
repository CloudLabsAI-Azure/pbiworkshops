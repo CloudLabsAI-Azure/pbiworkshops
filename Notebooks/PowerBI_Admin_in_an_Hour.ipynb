{
 "cells": [
  {
   "cell_type": "markdown",
   "metadata": {},
   "source": [
    "# Admin in an Hour"
   ]
  },
  {
   "cell_type": "markdown",
   "metadata": {},
   "source": [
    "<img align=\"left\" width=\"100\" height=\"100\" src=\"https://raw.githubusercontent.com/microsoft/pbiworkshops/main/_Asset%20Library/powerbi.svg\">\n",
    "<img align=\"left\" width=\"100\" height=\"100\" src=\"https://raw.githubusercontent.com/microsoft/pbiworkshops/main/Admin%20in%20an%20Hour/Images/ps_black_128.svg\">\n"
   ]
  },
  {
   "cell_type": "markdown",
   "metadata": {},
   "source": [
    "# Table of Contents\n",
    "\n",
    "- Jupyter Notebook Navigation\n",
    "- PowerShell Introduction\n",
    "    - Hello, World\n",
    "        - Parameters\n",
    "        - Get-Help \n",
    "    - Variables\n",
    "        - Object Properties\n",
    "    - Iteration\n",
    "    - Noun-Verb\n",
    "- Install Microsoft Power BI cmdlets\n",
    "    - Get-Help"
   ]
  },
  {
   "cell_type": "markdown",
   "metadata": {},
   "source": [
    "# Jupyter Notebook Navigation\n",
    "\n",
    "Below are some important navigation items for getting started.\n",
    "- To move up or down the notebook you can use the standard directional keys ⬆⬇\n",
    "- The keyboard combination **Ctrl+Enter** allows you to:\n",
    "    - Run a cell which contains **Code**\n",
    "    - Exit edit mode in a **Markdown** cell\n",
    "\n",
    "[For a list of shortcuts](https://cheatography.com/weidadeyue/cheat-sheets/jupyter-notebook/)"
   ]
  },
  {
   "cell_type": "markdown",
   "metadata": {},
   "source": [
    "# PowerShell Introduction\n",
    "\n",
    "### Objectives: \n",
    "Write to the host, include parameters and return the documentation for the ```Write-Host``` command."
   ]
  },
  {
   "cell_type": "markdown",
   "metadata": {},
   "source": [
    "### Hello, World\n",
    "1. In the first cell, print the value \"Hello, World\" in the host by using the command:\n",
    "\n",
    "    ```Write-Host```\n",
    "\n",
    "\n",
    "2. In the second cell, include the Background and Foreground color parameters from the above command.\n",
    "\n",
    "   ```Write-Host 'Hello, World' -BackgroundColor DarkYellow -ForegroundColor White```\n",
    "    \n",
    "\n",
    "3. In the third cell, Utilize Get-Help to return the available parameters for the Write-Host command.\n",
    "\n",
    "    ```Get-Help Write-Host```"
   ]
  },
  {
   "cell_type": "code",
   "execution_count": null,
   "metadata": {
    "scrolled": true
   },
   "outputs": [],
   "source": []
  },
  {
   "cell_type": "code",
   "execution_count": null,
   "metadata": {},
   "outputs": [],
   "source": []
  },
  {
   "cell_type": "code",
   "execution_count": null,
   "metadata": {
    "scrolled": false
   },
   "outputs": [],
   "source": []
  },
  {
   "cell_type": "markdown",
   "metadata": {},
   "source": [
    "### Objectives: \n",
    "Store a variable, insert into an existing string and return the object's length property."
   ]
  },
  {
   "cell_type": "markdown",
   "metadata": {},
   "source": [
    "### Variables\n",
    "1. In the first cell below, store your favorite color in single or double quotes:\n",
    "\n",
    "    ```$myColor = \"<color>\"```\n",
    "    \n",
    "\n",
    "2. In the second cell below, write your favorite color to the host:\n",
    "\n",
    "    ```Write-Host \"My favorite color is: $($myColor)\"```\n",
    "       \n",
    "       \n",
    "3. In the third cell below, return the length of the variable ```$myColor```:\n",
    "\n",
    "    ```$myColor.length```"
   ]
  },
  {
   "cell_type": "code",
   "execution_count": null,
   "metadata": {},
   "outputs": [],
   "source": []
  },
  {
   "cell_type": "code",
   "execution_count": null,
   "metadata": {
    "scrolled": true
   },
   "outputs": [],
   "source": []
  },
  {
   "cell_type": "code",
   "execution_count": null,
   "metadata": {},
   "outputs": [],
   "source": []
  },
  {
   "cell_type": "markdown",
   "metadata": {},
   "source": [
    "### Objectives:\n",
    "Create and iterate thru a list of values."
   ]
  },
  {
   "cell_type": "markdown",
   "metadata": {},
   "source": [
    "## Iteration\n",
    "\n",
    "1. In the first cell below, store the list of numbers in a variable:\n",
    "\n",
    "    ```$numbers = @(1,2,3)```\n",
    "\n",
    "\n",
    "2. In the second cell below, iterate thru the list using a foreach loop:\n",
    "\n",
    "    ```foreach ( $item in $numbers ) { $item * 10 }```\n"
   ]
  },
  {
   "cell_type": "code",
   "execution_count": 24,
   "metadata": {},
   "outputs": [],
   "source": []
  },
  {
   "cell_type": "code",
   "execution_count": null,
   "metadata": {},
   "outputs": [],
   "source": []
  },
  {
   "cell_type": "markdown",
   "metadata": {},
   "source": [
    "# PowerShell for Power BI"
   ]
  },
  {
   "cell_type": "markdown",
   "metadata": {},
   "source": [
    "# Install Microsoft Power BI cmdlets\n",
    "The following cmdlets are available on PowerShell Gallery and can be installed in an elevated PowerShell session:\n",
    "- [Microsoft Power BI](https://docs.microsoft.com/en-us/powershell/power-bi/overview?view=powerbi-ps)\n",
    "- [Data Gateway](https://docs.microsoft.com/en-us/powershell/module/datagateway/?view=datagateway-ps)\n",
    "\n",
    "\n",
    "1. In the first cell below, install the Power BI management module using the following command:\n",
    "\n",
    "    ```Install-Module MicrosoftPowerBIMGMT```\n",
    "    \n",
    "\n",
    "2. In the second cell, install the Data Gateway module using the following command:\n",
    "\n",
    "    ```Install-Module DataGateway```"
   ]
  },
  {
   "cell_type": "code",
   "execution_count": null,
   "metadata": {
    "scrolled": true,
    "tags": []
   },
   "outputs": [],
   "source": []
  },
  {
   "cell_type": "code",
   "execution_count": null,
   "metadata": {},
   "outputs": [],
   "source": []
  },
  {
   "cell_type": "markdown",
   "metadata": {},
   "source": [
    "# Available Cmdlets\n",
    "\n",
    "Return the available cmdlets from either the MicrosoftPowerBIMGMT or DataGateway module, by leveraging wild card searches and sorting and table formatting.\n",
    "\n",
    "1. In the first cell below, search for all Power BI cmdlets using the following command:\n",
    "\n",
    "    ```Get-Help *PowerBI*```\n",
    "    \n",
    "\n",
    "2. Update the first cell, by piping Sort Name to sort the name column:\n",
    "\n",
    "    ```Get-Help *PowerBI* | Sort Name```\n",
    "    \n",
    "    \n",
    "3. Update the first cell, by piping table formatting to auto size the column width:\n",
    "\n",
    "    ```Get-Help *PowerBI* | Sort Name | Format-Table -AutoSize```\n",
    "    \n",
    "    \n",
    "3. In the second cell, return all DataGatway cmdlets, sort by name and format the table by auto sizing the columns:\n",
    "\n",
    "    ```Get-Help *DataGateway* | Sort Name | Format-Table -AutoSize```"
   ]
  },
  {
   "cell_type": "code",
   "execution_count": null,
   "metadata": {
    "scrolled": true,
    "tags": []
   },
   "outputs": [],
   "source": []
  },
  {
   "cell_type": "code",
   "execution_count": null,
   "metadata": {},
   "outputs": [],
   "source": []
  },
  {
   "cell_type": "markdown",
   "metadata": {},
   "source": [
    "# Connect to Power BI service\n",
    "\n",
    "Login with Azure Active Directory user authentication or Service Principal credentials.\n",
    "\n",
    "1. In the cell below, login with your user account for the Power BI service.\n",
    "\n",
    "    ```Connect-PowerBIServiceAccount```"
   ]
  },
  {
   "cell_type": "code",
   "execution_count": null,
   "metadata": {
    "tags": []
   },
   "outputs": [],
   "source": []
  },
  {
   "cell_type": "markdown",
   "metadata": {},
   "source": [
    "# Scope\n",
    "\n",
    "Indicates the scope of the call.\n",
    "- -Scope Individual\n",
    "    - Ex: Returns only workspaces assigned to the caller.\n",
    "- -Scope Organization\n",
    "    - Ex: Returns all workspaces within a tenant (must be an administrator to initiate).\n",
    "\n",
    "\n",
    "1. In the cell below, create a variable and define the level of the scope you wish to use:\n",
    "\n",
    "    ```$scopeLevel = \"Individual\"```"
   ]
  },
  {
   "cell_type": "code",
   "execution_count": 31,
   "metadata": {},
   "outputs": [],
   "source": []
  },
  {
   "cell_type": "markdown",
   "metadata": {},
   "source": [
    "# Return a list of Power BI workspaces\n",
    "\n",
    "Return a listing of the Power BI workspaces including Id, Name, IsReadOnly and IsOnDedicatedCapacity.\n",
    "\n",
    "To list all workspaces, use the parameter -All"
   ]
  },
  {
   "cell_type": "code",
   "execution_count": null,
   "metadata": {
    "scrolled": true,
    "tags": []
   },
   "outputs": [],
   "source": [
    "$pbiWorkspaces = Get-PowerBIWorkspace -Scope $scopeLevel -All\n",
    "Write-Host \"Total Number of Workspaces: $($pbiWorkspaces.Count)`n\"\n",
    "\n",
    "Get-PowerBIWorkspace -Scope Individual -First 5"
   ]
  },
  {
   "cell_type": "markdown",
   "metadata": {},
   "source": [
    "# Return a list of Power BI datasets in a workspace\n",
    "\n",
    "Return a listing of the Power BI datasets within a workspace including the additional attributes WorkspaceId and Type."
   ]
  },
  {
   "cell_type": "code",
   "execution_count": null,
   "metadata": {},
   "outputs": [],
   "source": [
    "$pbiWorkspaces = Get-PowerBIWorkspace -Scope $scopeLevel -First 5\n",
    "\n",
    "$pbiDatasets = @()\n",
    "\n",
    "ForEach ($workspace in $pbiWorkspaces) {\n",
    "\n",
    "    $pbiDatasets += Get-PowerBIDataset -Scope $scopeLevel -WorkspaceId $workspace.Id | select *, @{Name=\"WorkspaceId\"; Expression={ $workspace.Id } }, @{Name=\"Type\"; Expression={ \"Dataset\" } }\n",
    "    \n",
    "}\n",
    "\n",
    "$pbiDatasets | Sort-Object -Property Id -Unique"
   ]
  },
  {
   "cell_type": "markdown",
   "metadata": {},
   "source": [
    "# Return a list of Power BI dataflows in a workspace\n",
    "\n",
    "Return a listing of the Power BI dataflows within a workspace including the additional attributes WorkspaceId and Type."
   ]
  },
  {
   "cell_type": "code",
   "execution_count": null,
   "metadata": {},
   "outputs": [],
   "source": [
    "$pbiWorkspaces = Get-PowerBIWorkspace -Scope $scopeLevel -First 5\n",
    "\n",
    "$pbiDataflows = @()\n",
    "\n",
    "ForEach ($workspace in $pbiWorkspaces) {\n",
    "\n",
    "    $pbiDataflows += Get-PowerBIDataflow -Scope $scopeLevel -WorkspaceId $workspace.Id | select *, @{Name=\"WorkspaceId\"; Expression={ $workspace.Id } }, @{Name=\"Type\"; Expression={ \"Dataflow\" } }\n",
    "    \n",
    "}\n",
    "\n",
    "$pbiDataflows | Sort-Object -Property Id -Unique"
   ]
  },
  {
   "cell_type": "markdown",
   "metadata": {},
   "source": [
    "# Return a list of Power BI datasources in a dataflow in a workspace\n",
    "\n",
    "Return a listing of the Power BI datasources in a dataflow within a workspace including the additional attributes WorkspaceId, DataflowId and Type."
   ]
  },
  {
   "cell_type": "code",
   "execution_count": null,
   "metadata": {},
   "outputs": [],
   "source": [
    "$pbiWorkspaces = Get-PowerBIWorkspace -Scope $scopeLevel -First 5\n",
    "\n",
    "$pbiDataflowDatasources = @()\n",
    "\n",
    "ForEach ($workspace in $pbiWorkspaces) {\n",
    "\n",
    "    $pbiDataflows += Get-PowerBIDataflow -Scope $scopeLevel -WorkspaceId $workspace.Id\n",
    "\n",
    "    ForEach ($dataflow in $pbiDataflows) {\n",
    "\n",
    "        $pbiDataflowDatasources += Get-PowerBIDataflowDatasource -Scope $scopeLevel -WorkspaceId $workspace.Id -DataflowId $dataflow.Id | select *, @{Name=\"WorkspaceId\"; Expression={ $workspace.Id } }, @{Name=\"DataflowId\"; Expression={ $dataflow.Id } }, @{Name=\"Type\"; Expression={ \"Dataflow Datasource\" } }\n",
    "\n",
    "    }\n",
    "    \n",
    "}\n",
    "\n",
    "$pbiDataflowDatasources | Sort-Object -Property Id -Unique"
   ]
  },
  {
   "cell_type": "markdown",
   "metadata": {},
   "source": [
    "# Return a list of Power BI reports in a workspace\n",
    "\n",
    "Return a listing of the Power BI reports within a workspace including the additional attributes WorkspaceId and Type."
   ]
  },
  {
   "cell_type": "code",
   "execution_count": null,
   "metadata": {},
   "outputs": [],
   "source": [
    "$pbiWorkspaces = Get-PowerBIWorkspace -Scope $scopeLevel -First 5\n",
    "\n",
    "$pbiReports = @()\n",
    "\n",
    "ForEach ($workspace in $pbiWorkspaces) {\n",
    "\n",
    "    $pbiReports += Get-PowerBIReport -Scope $scopeLevel -WorkspaceId $workspace.Id | select *, @{Name=\"WorkspaceId\"; Expression={ $workspace.Id } }, @{Name=\"Type\"; Expression={ \"Report\" } }\n",
    "    \n",
    "}\n",
    "\n",
    "$pbiReports | Sort-Object -Property Id -Unique"
   ]
  },
  {
   "cell_type": "markdown",
   "metadata": {},
   "source": [
    "# Return a list of Power BI dashboards in a workspace\n",
    "\n",
    "Return a listing of the Power BI dasbhoards within a workspace including the additional attributes WorkspaceId and Type."
   ]
  },
  {
   "cell_type": "code",
   "execution_count": null,
   "metadata": {},
   "outputs": [],
   "source": [
    "$pbiWorkspaces = Get-PowerBIWorkspace -Scope $scopeLevel -First 5\n",
    "\n",
    "$pbiDashboards = @()\n",
    "\n",
    "ForEach ($workspace in $pbiWorkspaces) {\n",
    "\n",
    "    $pbiDashboards += Get-PowerBIDashboard -Scope $scopeLevel -WorkspaceId $workspace.Id | select *, @{Name=\"WorkspaceId\"; Expression={ $workspace.Id } }, @{Name=\"Type\"; Expression={ \"Dashboard\" } }\n",
    "    \n",
    "}\n",
    "\n",
    "$pbiDashboards | Sort-Object -Property Id -Unique"
   ]
  },
  {
   "cell_type": "markdown",
   "metadata": {},
   "source": [
    "# Return a list of Power BI tiles on a dashboard in a workspace\n",
    "\n",
    "Return a listing of the Power BI tiles on a dashboard within a workspace including the additional attributes WorkspaceId, DashboardId and Type.\n",
    "\n"
   ]
  },
  {
   "cell_type": "code",
   "execution_count": null,
   "metadata": {},
   "outputs": [],
   "source": [
    "$pbiWorkspaces = Get-PowerBIWorkspace -Scope $scopeLevel -First 5\n",
    "\n",
    "$pbiTiles = @()\n",
    "\n",
    "ForEach ($workspace in $pbiWorkspaces) {\n",
    "\n",
    "    $pbiDashboards = Get-PowerBIDashboard -Scope $scopeLevel -WorkspaceId $workspace.Id\n",
    "\n",
    "    ForEach ($dashboard in $pbiDashboards) {\n",
    "\n",
    "        $pbiTiles += Get-PowerBITile -Scope $scopeLevel -WorkspaceId $workspace.Id -DashboardId $dashboard.Id | select *, @{Name=\"WorkspaceId\"; Expression={ $workspace.Id } }, @{Name=\"DashboardId\"; Expression={ $dashboard.Id } }, @{Name=\"Type\"; Expression={ \"Tile\" } }\n",
    "\n",
    "    }\n",
    "    \n",
    "}\n",
    "\n",
    "$pbiTiles | Sort-Object -Property Id -Unique"
   ]
  },
  {
   "cell_type": "markdown",
   "metadata": {},
   "source": [
    "# Return a list of the Power BI import state of a dataset in a workspace\n",
    "\n",
    "Return a listing of the Power BI import state in a workspace including the additional attribute WorkspaceId.\n",
    "\n",
    "- ImportState\n",
    "    - Succeeded\n",
    "    - Failed"
   ]
  },
  {
   "cell_type": "code",
   "execution_count": null,
   "metadata": {
    "tags": []
   },
   "outputs": [],
   "source": [
    "$pbiWorkspaces = Get-PowerBIWorkspace -Scope $scopeLevel -First 5\n",
    "\n",
    "$pbiImports = @()\n",
    "\n",
    "ForEach ($workspace in $pbiWorkspaces) {\n",
    "\n",
    "    $pbiImports += Get-PowerBIImport -Scope $scopeLevel -WorkspaceId $workspace.Id | select *, @{Name=\"WorkspaceId\"; Expression={ $workspace.Id } }\n",
    "    \n",
    "}\n",
    "\n",
    "$pbiImports | Sort-Object -Property Id -Unique"
   ]
  },
  {
   "cell_type": "markdown",
   "metadata": {},
   "source": [
    "# Return a list of the Power BI data sources of a dataset in a workspace\n",
    "\n",
    "Return a listing of the Power BI data sources of a dataset in a workspace including the additional attributes WorkspaceId and Type."
   ]
  },
  {
   "cell_type": "code",
   "execution_count": null,
   "metadata": {
    "tags": []
   },
   "outputs": [],
   "source": [
    "$pbiWorkspaces = Get-PowerBIWorkspace -Scope $scopeLevel -First 5\n",
    "\n",
    "$pbiDatasets = @()\n",
    "\n",
    "ForEach ($workspace in $pbiWorkspaces) {\n",
    "\n",
    "    $pbiDashboards = Get-PowerBIDashboard -Scope $scopeLevel -WorkspaceId $workspace.Id\n",
    "\n",
    "    ForEach ($dashboard in $pbiDashboards) {\n",
    "\n",
    "        $pbiTiles += Get-PowerBITile -Scope $scopeLevel -WorkspaceId $workspace.Id -DashboardId $dashboard.Id | select *, @{Name=\"WorkspaceId\"; Expression={ $workspace.Id } }, @{Name=\"DashboardId\"; Expression={ $dashboard.Id } }, @{Name=\"Type\"; Expression={ \"Tile\" } }\n",
    "\n",
    "    }\n",
    "    \n",
    "}\n",
    "\n",
    "$pbiTiles | Sort-Object -Property Id -Unique"
   ]
  }
 ],
 "metadata": {
  "kernelspec": {
   "display_name": ".NET (PowerShell)",
   "language": "PowerShell",
   "name": ".net-powershell"
  },
  "language_info": {
   "file_extension": ".ps1",
   "mimetype": "text/x-powershell",
   "name": "PowerShell",
   "pygments_lexer": "powershell",
   "version": "7.0"
  }
 },
 "nbformat": 4,
 "nbformat_minor": 4
}
