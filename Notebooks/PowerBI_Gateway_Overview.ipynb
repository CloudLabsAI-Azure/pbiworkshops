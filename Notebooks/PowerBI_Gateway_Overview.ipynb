{
 "cells": [
  {
   "cell_type": "markdown",
   "metadata": {},
   "source": [
    "# Microsoft Power BI Cmdlets for Windows PowerShell and PowerShell Core\n",
    "The following cmdlets are available on PowerShell Gallery and can be installed in an elevated PowerShell session:\n",
    "- [Data Gateway](https://docs.microsoft.com/en-us/powershell/module/datagateway/?view=datagateway-ps)"
   ]
  },
  {
   "cell_type": "code",
   "execution_count": null,
   "metadata": {
    "scrolled": true
   },
   "outputs": [],
   "source": [
    "$modules = @(\"DataGateway\")\n",
    "\n",
    "foreach ( $m in $modules ) \n",
    "{\n",
    "    if (Get-Module -ListAvailable -Name $m) {\n",
    "        write-host \"Module $m is already imported.\"\n",
    "    } \n",
    "    else {\n",
    "        Install-Module -Name $m -Force -Scope CurrentUser\n",
    "        Import-Module $m\n",
    "    }\n",
    "}"
   ]
  },
  {
   "cell_type": "markdown",
   "metadata": {},
   "source": [
    "# Available Cmdlets\n",
    "Returns the available cmdlets from either the MicrosoftPowerBIMGMT or DataGateway module."
   ]
  },
  {
   "cell_type": "code",
   "execution_count": null,
   "metadata": {
    "scrolled": false
   },
   "outputs": [],
   "source": [
    "Get-Help *DataGateway* | Sort-Object Name | Format-Table -AutoSize"
   ]
  },
  {
   "cell_type": "markdown",
   "metadata": {},
   "source": [
    "# Connect to Data Gateway\n",
    "\n",
    "Connect to the Data Gateway service with either a user or service principal account (application secret or certificate).\n",
    "\n",
    "For user accounts, an Azure Active Directory (AAD) First-Party application is leveraged for authentication.\n",
    "\n",
    "**For Government:** Connect-DataGatewayServiceAccount -Environment USGov\n",
    "\n",
    "Learn More: [Examples](https://docs.microsoft.com/en-us/powershell/module/datagateway.profile/connect-datagatewayserviceaccount?view=datagateway-ps#examples)"
   ]
  },
  {
   "cell_type": "code",
   "execution_count": null,
   "metadata": {
    "scrolled": true
   },
   "outputs": [],
   "source": [
    "Connect-DataGatewayServiceAccount"
   ]
  },
  {
   "cell_type": "markdown",
   "metadata": {},
   "source": [
    "# Scope\n",
    "\n",
    "Indicates the scope of the call.\n",
    "- -Scope Individual\n",
    "    - Returns only gateways assigned to the caller.\n",
    "- -Scope Organization\n",
    "    - Returns all gateways within a tenant (You must be an O365 tenant admin, Power Platform admin or a Power BI admin)."
   ]
  },
  {
   "cell_type": "code",
   "execution_count": null,
   "metadata": {},
   "outputs": [],
   "source": [
    "$scopeLevel = \"Individual\""
   ]
  },
  {
   "cell_type": "markdown",
   "metadata": {},
   "source": [
    "# Return a list of Data Gateways\n",
    "\n",
    "Get gateway clusters for which the current user is an administrator."
   ]
  },
  {
   "cell_type": "code",
   "execution_count": null,
   "metadata": {
    "scrolled": false
   },
   "outputs": [],
   "source": [
    "$gateways = Get-DataGatewayCluster -Scope $scopeLevel\n",
    "\n",
    "Write-Host \"Total Number of Gateways: $($gateways.Count)\"\n",
    "\n",
    "$gateways"
   ]
  },
  {
   "cell_type": "markdown",
   "metadata": {},
   "source": [
    "# Data Gateway Statuses"
   ]
  },
  {
   "cell_type": "code",
   "execution_count": null,
   "metadata": {
    "scrolled": true
   },
   "outputs": [],
   "source": [
    "$dataGateways = Get-DataGatewayCluster -Scope $scopeLevel\n",
    "\n",
    "$gateways = @()\n",
    "\n",
    "ForEach ($dataGateway in $dataGateways) {\n",
    "    \n",
    "    $gateways += Get-DataGatewayClusterStatus -GatewayClusterId $dataGateway.Id\n",
    "                | Select *, @{Name=\"GatewayId\"; Expression={ $dataGateway.Id } }\n",
    "\n",
    "}\n",
    "\n",
    "$gateways"
   ]
  },
  {
   "cell_type": "markdown",
   "metadata": {},
   "source": [
    "# Gateway Upgrades\n",
    "\n",
    "Get a list of gateways where a new version is available."
   ]
  },
  {
   "cell_type": "code",
   "execution_count": null,
   "metadata": {
    "scrolled": true
   },
   "outputs": [],
   "source": [
    "$dataGateways = Get-DataGatewayCluster -Scope $scopeLevel\n",
    "\n",
    "$gateways = @()\n",
    "\n",
    "ForEach ($dataGateway in $dataGateways) {\n",
    "    \n",
    "    $gateways += Get-DataGatewayClusterStatus -GatewayClusterId $dataGateway.Id \n",
    "                | Where-Object {$_.GatewayUpgradeState -eq \"NewVersionAvailable\"} \n",
    "                | Select *, @{Name=\"GatewayId\"; Expression={ $dataGateway.Id } } \n",
    "                \n",
    "}\n",
    "\n",
    "Write-Host \"Total Gateways with a new version available: $($gateways.Count)\"\n",
    "\n",
    "$gateways"
   ]
  },
  {
   "cell_type": "markdown",
   "metadata": {},
   "source": [
    "# Return Member Data Gateways\n",
    "\n",
    "Get details of each member gateway."
   ]
  },
  {
   "cell_type": "code",
   "execution_count": null,
   "metadata": {
    "scrolled": true
   },
   "outputs": [],
   "source": [
    "$dataGateways = Get-DataGatewayCluster -Scope $scopeLevel\n",
    "\n",
    "$gateways = @()\n",
    "\n",
    "ForEach ($dataGateway in $dataGateways) {\n",
    "    \n",
    "    $gateways += Get-DataGatewayCluster -GatewayClusterId $dataGateway.Id\n",
    "                | Select -ExpandProperty MemberGateways\n",
    "\n",
    "}\n",
    "\n",
    "$gateways | Sort-Object -Property ClusterId"
   ]
  },
  {
   "cell_type": "markdown",
   "metadata": {},
   "source": [
    "# Return Data Gateway Permissions\n",
    "\n",
    "Get a list of users with permissions to administer or use the gateway cluster"
   ]
  },
  {
   "cell_type": "code",
   "execution_count": null,
   "metadata": {
    "scrolled": true
   },
   "outputs": [],
   "source": [
    "$dataGateways = Get-DataGatewayCluster -Scope $scopeLevel\n",
    "\n",
    "$gateways = @()\n",
    "\n",
    "ForEach ($dataGateway in $dataGateways) {\n",
    "    \n",
    "    $gateways += Get-DataGatewayCluster -GatewayClusterId $dataGateway.Id\n",
    "                | Select -ExpandProperty Permissions\n",
    "\n",
    "}\n",
    "\n",
    "$gateways | Sort-Object -Property ClusterId"
   ]
  },
  {
   "cell_type": "markdown",
   "metadata": {},
   "source": [
    "# Data Gateway Details\n",
    "\n",
    "Gets all gateway regions along with an identification of the default Power BI region for your tenant."
   ]
  },
  {
   "cell_type": "code",
   "execution_count": null,
   "metadata": {
    "scrolled": false
   },
   "outputs": [],
   "source": [
    "Get-DataGatewayRegion"
   ]
  },
  {
   "cell_type": "markdown",
   "metadata": {},
   "source": [
    "# Data Gateway Tenant Policy\n",
    "\n",
    "Returns Tenant Policy Information"
   ]
  },
  {
   "cell_type": "code",
   "execution_count": null,
   "metadata": {
    "scrolled": true
   },
   "outputs": [],
   "source": [
    "Get-DataGatewayTenantPolicy"
   ]
  },
  {
   "cell_type": "markdown",
   "metadata": {},
   "source": [
    "# Enable on-premises and cloud data sources on cluster\n",
    "\n",
    "You can use the on-premises data gateway to merge or append on-premises and cloud data sources in the same query. This solution is helpful when you want to combine data from multiple sources without having to use separate queries.\n",
    "\n",
    "<b>Note:</b> The following script enables for all data gateways.\n",
    "\n",
    "Learn More: [Merge or append on-premises and cloud data sources](https://docs.microsoft.com/en-us/power-bi/connect-data/service-gateway-mashup-on-premises-cloud)"
   ]
  },
  {
   "cell_type": "code",
   "execution_count": null,
   "metadata": {},
   "outputs": [],
   "source": [
    "$dataGateways = Get-DataGatewayCluster -Scope $scopeLevel\n",
    "\n",
    "ForEach ($dataGateway in $dataGateways) {\n",
    "  \n",
    "    Set-DataGatewayCluster -GatewayClusterId $dataGateway.Id -AllowCloudDatasourceRefresh $true\n",
    "    Write-Host \"Cloud Data Source Refresh Now Enabled: $($dataGateway.Id)\" \n",
    "\n",
    "}"
   ]
  }
 ],
 "metadata": {
  "kernelspec": {
   "display_name": ".NET (PowerShell)",
   "language": "PowerShell",
   "name": ".net-powershell"
  },
  "language_info": {
   "file_extension": ".ps1",
   "mimetype": "text/x-powershell",
   "name": "PowerShell",
   "pygments_lexer": "powershell",
   "version": "7.0"
  }
 },
 "nbformat": 4,
 "nbformat_minor": 4
}
